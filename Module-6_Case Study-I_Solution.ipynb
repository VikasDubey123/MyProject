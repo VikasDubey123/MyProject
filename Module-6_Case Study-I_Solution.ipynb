{
 "cells": [
  {
   "cell_type": "code",
   "execution_count": 1,
   "id": "884fe30b",
   "metadata": {},
   "outputs": [],
   "source": [
    "# Importing necessary libraries\n",
    "import numpy as np\n",
    "import pandas as pd\n",
    "import matplotlib.pyplot as plt "
   ]
  },
  {
   "cell_type": "markdown",
   "id": "632c4ce3",
   "metadata": {},
   "source": [
    "### 1. Data Loading:"
   ]
  },
  {
   "cell_type": "markdown",
   "id": "44823672",
   "metadata": {},
   "source": [
    "#### a. Load the dataset “prisoners.csv” using pandas and display the first and last five rows in the dataset."
   ]
  },
  {
   "cell_type": "code",
   "execution_count": 2,
   "id": "89b7fd1c",
   "metadata": {},
   "outputs": [
    {
     "data": {
      "text/html": [
       "<div>\n",
       "<style scoped>\n",
       "    .dataframe tbody tr th:only-of-type {\n",
       "        vertical-align: middle;\n",
       "    }\n",
       "\n",
       "    .dataframe tbody tr th {\n",
       "        vertical-align: top;\n",
       "    }\n",
       "\n",
       "    .dataframe thead th {\n",
       "        text-align: right;\n",
       "    }\n",
       "</style>\n",
       "<table border=\"1\" class=\"dataframe\">\n",
       "  <thead>\n",
       "    <tr style=\"text-align: right;\">\n",
       "      <th></th>\n",
       "      <th>STATE/UT</th>\n",
       "      <th>YEAR</th>\n",
       "      <th>No. of Inmates benefitted by Elementary Education</th>\n",
       "      <th>No. of Inmates benefitted by Adult Education</th>\n",
       "      <th>No. of Inmates benefitted by Higher Education</th>\n",
       "      <th>No. of Inmates benefitted by Computer Course</th>\n",
       "    </tr>\n",
       "  </thead>\n",
       "  <tbody>\n",
       "    <tr>\n",
       "      <th>0</th>\n",
       "      <td>Andhra Pradesh</td>\n",
       "      <td>2013</td>\n",
       "      <td>9480</td>\n",
       "      <td>13758</td>\n",
       "      <td>672</td>\n",
       "      <td>170</td>\n",
       "    </tr>\n",
       "    <tr>\n",
       "      <th>1</th>\n",
       "      <td>Arunachal Pradesh</td>\n",
       "      <td>2013</td>\n",
       "      <td>0</td>\n",
       "      <td>0</td>\n",
       "      <td>0</td>\n",
       "      <td>0</td>\n",
       "    </tr>\n",
       "    <tr>\n",
       "      <th>2</th>\n",
       "      <td>Assam</td>\n",
       "      <td>2013</td>\n",
       "      <td>676</td>\n",
       "      <td>750</td>\n",
       "      <td>14</td>\n",
       "      <td>30</td>\n",
       "    </tr>\n",
       "    <tr>\n",
       "      <th>3</th>\n",
       "      <td>Bihar</td>\n",
       "      <td>2013</td>\n",
       "      <td>1693</td>\n",
       "      <td>3013</td>\n",
       "      <td>125</td>\n",
       "      <td>1417</td>\n",
       "    </tr>\n",
       "    <tr>\n",
       "      <th>4</th>\n",
       "      <td>Chhatisgarh</td>\n",
       "      <td>2013</td>\n",
       "      <td>1664</td>\n",
       "      <td>1803</td>\n",
       "      <td>192</td>\n",
       "      <td>103</td>\n",
       "    </tr>\n",
       "  </tbody>\n",
       "</table>\n",
       "</div>"
      ],
      "text/plain": [
       "            STATE/UT  YEAR  No. of Inmates benefitted by Elementary Education  \\\n",
       "0     Andhra Pradesh  2013                                               9480   \n",
       "1  Arunachal Pradesh  2013                                                  0   \n",
       "2              Assam  2013                                                676   \n",
       "3              Bihar  2013                                               1693   \n",
       "4        Chhatisgarh  2013                                               1664   \n",
       "\n",
       "   No. of Inmates benefitted by Adult Education  \\\n",
       "0                                         13758   \n",
       "1                                             0   \n",
       "2                                           750   \n",
       "3                                          3013   \n",
       "4                                          1803   \n",
       "\n",
       "   No. of Inmates benefitted by Higher Education  \\\n",
       "0                                            672   \n",
       "1                                              0   \n",
       "2                                             14   \n",
       "3                                            125   \n",
       "4                                            192   \n",
       "\n",
       "   No. of Inmates benefitted by Computer Course  \n",
       "0                                           170  \n",
       "1                                             0  \n",
       "2                                            30  \n",
       "3                                          1417  \n",
       "4                                           103  "
      ]
     },
     "execution_count": 2,
     "metadata": {},
     "output_type": "execute_result"
    }
   ],
   "source": [
    "# Reading the Data file and displaying first 5 rows.\n",
    "df = pd.read_csv('prisoners.csv')\n",
    "df.head()"
   ]
  },
  {
   "cell_type": "code",
   "execution_count": 3,
   "id": "cc400095",
   "metadata": {},
   "outputs": [
    {
     "data": {
      "text/html": [
       "<div>\n",
       "<style scoped>\n",
       "    .dataframe tbody tr th:only-of-type {\n",
       "        vertical-align: middle;\n",
       "    }\n",
       "\n",
       "    .dataframe tbody tr th {\n",
       "        vertical-align: top;\n",
       "    }\n",
       "\n",
       "    .dataframe thead th {\n",
       "        text-align: right;\n",
       "    }\n",
       "</style>\n",
       "<table border=\"1\" class=\"dataframe\">\n",
       "  <thead>\n",
       "    <tr style=\"text-align: right;\">\n",
       "      <th></th>\n",
       "      <th>STATE/UT</th>\n",
       "      <th>YEAR</th>\n",
       "      <th>No. of Inmates benefitted by Elementary Education</th>\n",
       "      <th>No. of Inmates benefitted by Adult Education</th>\n",
       "      <th>No. of Inmates benefitted by Higher Education</th>\n",
       "      <th>No. of Inmates benefitted by Computer Course</th>\n",
       "    </tr>\n",
       "  </thead>\n",
       "  <tbody>\n",
       "    <tr>\n",
       "      <th>30</th>\n",
       "      <td>D &amp; N Haveli</td>\n",
       "      <td>2013</td>\n",
       "      <td>0</td>\n",
       "      <td>0</td>\n",
       "      <td>0</td>\n",
       "      <td>0</td>\n",
       "    </tr>\n",
       "    <tr>\n",
       "      <th>31</th>\n",
       "      <td>Daman &amp; Diu</td>\n",
       "      <td>2013</td>\n",
       "      <td>0</td>\n",
       "      <td>0</td>\n",
       "      <td>0</td>\n",
       "      <td>0</td>\n",
       "    </tr>\n",
       "    <tr>\n",
       "      <th>32</th>\n",
       "      <td>Delhi</td>\n",
       "      <td>2013</td>\n",
       "      <td>1458</td>\n",
       "      <td>1187</td>\n",
       "      <td>908</td>\n",
       "      <td>174</td>\n",
       "    </tr>\n",
       "    <tr>\n",
       "      <th>33</th>\n",
       "      <td>Lakshadweep</td>\n",
       "      <td>2013</td>\n",
       "      <td>0</td>\n",
       "      <td>0</td>\n",
       "      <td>0</td>\n",
       "      <td>0</td>\n",
       "    </tr>\n",
       "    <tr>\n",
       "      <th>34</th>\n",
       "      <td>Pondicherry</td>\n",
       "      <td>2013</td>\n",
       "      <td>0</td>\n",
       "      <td>0</td>\n",
       "      <td>0</td>\n",
       "      <td>0</td>\n",
       "    </tr>\n",
       "  </tbody>\n",
       "</table>\n",
       "</div>"
      ],
      "text/plain": [
       "        STATE/UT  YEAR  No. of Inmates benefitted by Elementary Education  \\\n",
       "30  D & N Haveli  2013                                                  0   \n",
       "31   Daman & Diu  2013                                                  0   \n",
       "32         Delhi  2013                                               1458   \n",
       "33   Lakshadweep  2013                                                  0   \n",
       "34   Pondicherry  2013                                                  0   \n",
       "\n",
       "    No. of Inmates benefitted by Adult Education  \\\n",
       "30                                             0   \n",
       "31                                             0   \n",
       "32                                          1187   \n",
       "33                                             0   \n",
       "34                                             0   \n",
       "\n",
       "    No. of Inmates benefitted by Higher Education  \\\n",
       "30                                              0   \n",
       "31                                              0   \n",
       "32                                            908   \n",
       "33                                              0   \n",
       "34                                              0   \n",
       "\n",
       "    No. of Inmates benefitted by Computer Course  \n",
       "30                                             0  \n",
       "31                                             0  \n",
       "32                                           174  \n",
       "33                                             0  \n",
       "34                                             0  "
      ]
     },
     "execution_count": 3,
     "metadata": {},
     "output_type": "execute_result"
    }
   ],
   "source": [
    "# displaying last 5 rows.\n",
    "df.tail()"
   ]
  },
  {
   "cell_type": "code",
   "execution_count": 4,
   "id": "96989743",
   "metadata": {},
   "outputs": [
    {
     "name": "stdout",
     "output_type": "stream",
     "text": [
      "<class 'pandas.core.frame.DataFrame'>\n",
      "RangeIndex: 35 entries, 0 to 34\n",
      "Data columns (total 6 columns):\n",
      " #   Column                                             Non-Null Count  Dtype \n",
      "---  ------                                             --------------  ----- \n",
      " 0   STATE/UT                                           35 non-null     object\n",
      " 1   YEAR                                               35 non-null     int64 \n",
      " 2   No. of Inmates benefitted by Elementary Education  35 non-null     int64 \n",
      " 3   No. of Inmates benefitted by Adult Education       35 non-null     int64 \n",
      " 4   No. of Inmates benefitted by Higher Education      35 non-null     int64 \n",
      " 5   No. of Inmates benefitted by Computer Course       35 non-null     int64 \n",
      "dtypes: int64(5), object(1)\n",
      "memory usage: 1.8+ KB\n"
     ]
    }
   ],
   "source": [
    "df.info()"
   ]
  },
  {
   "cell_type": "markdown",
   "id": "3ca600b3",
   "metadata": {},
   "source": [
    "#### b. Use describe method in pandas and find out the number of columns. Can you say something about those rows who have zero inmates?"
   ]
  },
  {
   "cell_type": "code",
   "execution_count": 5,
   "id": "c22dd594",
   "metadata": {},
   "outputs": [
    {
     "name": "stdout",
     "output_type": "stream",
     "text": [
      "         YEAR  No. of Inmates benefitted by Elementary Education  \\\n",
      "count    35.0                                          35.000000   \n",
      "mean   2013.0                                        1057.914286   \n",
      "std       0.0                                        2078.196777   \n",
      "min    2013.0                                           0.000000   \n",
      "25%    2013.0                                           0.000000   \n",
      "50%    2013.0                                         167.000000   \n",
      "75%    2013.0                                        1294.500000   \n",
      "max    2013.0                                        9480.000000   \n",
      "\n",
      "       No. of Inmates benefitted by Adult Education  \\\n",
      "count                                     35.000000   \n",
      "mean                                    1534.857143   \n",
      "std                                     3022.110503   \n",
      "min                                        0.000000   \n",
      "25%                                        6.500000   \n",
      "50%                                      237.000000   \n",
      "75%                                     1733.500000   \n",
      "max                                    13758.000000   \n",
      "\n",
      "       No. of Inmates benefitted by Higher Education  \\\n",
      "count                                      35.000000   \n",
      "mean                                      237.457143   \n",
      "std                                       375.614191   \n",
      "min                                         0.000000   \n",
      "25%                                         2.000000   \n",
      "50%                                        33.000000   \n",
      "75%                                       234.500000   \n",
      "max                                      1353.000000   \n",
      "\n",
      "       No. of Inmates benefitted by Computer Course  \n",
      "count                                     35.000000  \n",
      "mean                                     210.171429  \n",
      "std                                      359.117340  \n",
      "min                                        0.000000  \n",
      "25%                                        0.000000  \n",
      "50%                                       38.000000  \n",
      "75%                                      227.500000  \n",
      "max                                     1417.000000  \n"
     ]
    }
   ],
   "source": [
    "print(df.describe())"
   ]
  },
  {
   "cell_type": "markdown",
   "id": "31e14344",
   "metadata": {},
   "source": [
    "### 2. Data Manipulation:"
   ]
  },
  {
   "cell_type": "markdown",
   "id": "5791562f",
   "metadata": {},
   "source": [
    "#### a. Create a new column -’total_benefitted’ that is a sum of inmates benefitted through all modes."
   ]
  },
  {
   "cell_type": "code",
   "execution_count": 6,
   "id": "fc2473d3",
   "metadata": {},
   "outputs": [
    {
     "data": {
      "text/html": [
       "<div>\n",
       "<style scoped>\n",
       "    .dataframe tbody tr th:only-of-type {\n",
       "        vertical-align: middle;\n",
       "    }\n",
       "\n",
       "    .dataframe tbody tr th {\n",
       "        vertical-align: top;\n",
       "    }\n",
       "\n",
       "    .dataframe thead th {\n",
       "        text-align: right;\n",
       "    }\n",
       "</style>\n",
       "<table border=\"1\" class=\"dataframe\">\n",
       "  <thead>\n",
       "    <tr style=\"text-align: right;\">\n",
       "      <th></th>\n",
       "      <th>STATE/UT</th>\n",
       "      <th>YEAR</th>\n",
       "      <th>No. of Inmates benefitted by Elementary Education</th>\n",
       "      <th>No. of Inmates benefitted by Adult Education</th>\n",
       "      <th>No. of Inmates benefitted by Higher Education</th>\n",
       "      <th>No. of Inmates benefitted by Computer Course</th>\n",
       "      <th>total_benefitted</th>\n",
       "    </tr>\n",
       "  </thead>\n",
       "  <tbody>\n",
       "    <tr>\n",
       "      <th>0</th>\n",
       "      <td>Andhra Pradesh</td>\n",
       "      <td>2013</td>\n",
       "      <td>9480</td>\n",
       "      <td>13758</td>\n",
       "      <td>672</td>\n",
       "      <td>170</td>\n",
       "      <td>24080</td>\n",
       "    </tr>\n",
       "    <tr>\n",
       "      <th>1</th>\n",
       "      <td>Arunachal Pradesh</td>\n",
       "      <td>2013</td>\n",
       "      <td>0</td>\n",
       "      <td>0</td>\n",
       "      <td>0</td>\n",
       "      <td>0</td>\n",
       "      <td>0</td>\n",
       "    </tr>\n",
       "    <tr>\n",
       "      <th>2</th>\n",
       "      <td>Assam</td>\n",
       "      <td>2013</td>\n",
       "      <td>676</td>\n",
       "      <td>750</td>\n",
       "      <td>14</td>\n",
       "      <td>30</td>\n",
       "      <td>1470</td>\n",
       "    </tr>\n",
       "    <tr>\n",
       "      <th>3</th>\n",
       "      <td>Bihar</td>\n",
       "      <td>2013</td>\n",
       "      <td>1693</td>\n",
       "      <td>3013</td>\n",
       "      <td>125</td>\n",
       "      <td>1417</td>\n",
       "      <td>6248</td>\n",
       "    </tr>\n",
       "    <tr>\n",
       "      <th>4</th>\n",
       "      <td>Chhatisgarh</td>\n",
       "      <td>2013</td>\n",
       "      <td>1664</td>\n",
       "      <td>1803</td>\n",
       "      <td>192</td>\n",
       "      <td>103</td>\n",
       "      <td>3762</td>\n",
       "    </tr>\n",
       "  </tbody>\n",
       "</table>\n",
       "</div>"
      ],
      "text/plain": [
       "            STATE/UT  YEAR  No. of Inmates benefitted by Elementary Education  \\\n",
       "0     Andhra Pradesh  2013                                               9480   \n",
       "1  Arunachal Pradesh  2013                                                  0   \n",
       "2              Assam  2013                                                676   \n",
       "3              Bihar  2013                                               1693   \n",
       "4        Chhatisgarh  2013                                               1664   \n",
       "\n",
       "   No. of Inmates benefitted by Adult Education  \\\n",
       "0                                         13758   \n",
       "1                                             0   \n",
       "2                                           750   \n",
       "3                                          3013   \n",
       "4                                          1803   \n",
       "\n",
       "   No. of Inmates benefitted by Higher Education  \\\n",
       "0                                            672   \n",
       "1                                              0   \n",
       "2                                             14   \n",
       "3                                            125   \n",
       "4                                            192   \n",
       "\n",
       "   No. of Inmates benefitted by Computer Course  total_benefitted  \n",
       "0                                           170             24080  \n",
       "1                                             0                 0  \n",
       "2                                            30              1470  \n",
       "3                                          1417              6248  \n",
       "4                                           103              3762  "
      ]
     },
     "execution_count": 6,
     "metadata": {},
     "output_type": "execute_result"
    }
   ],
   "source": [
    "df['total_benefitted'] = df['No. of Inmates benefitted by Elementary Education'] + df['No. of Inmates benefitted by Adult Education'] + df['No. of Inmates benefitted by Higher Education'] + df['No. of Inmates benefitted by Computer Course']\n",
    "df.head()"
   ]
  },
  {
   "cell_type": "markdown",
   "id": "95e82bc4",
   "metadata": {},
   "source": [
    "#### b. Create a new row - “totals” that is the sum of all inmates benefitted through each mode across all states."
   ]
  },
  {
   "cell_type": "code",
   "execution_count": 7,
   "id": "02bdc1d3",
   "metadata": {},
   "outputs": [
    {
     "name": "stdout",
     "output_type": "stream",
     "text": [
      "            STATE/UT  YEAR  No. of Inmates benefitted by Elementary Education  \\\n",
      "0     Andhra Pradesh  2013                                               9480   \n",
      "1  Arunachal Pradesh  2013                                                  0   \n",
      "2              Assam  2013                                                676   \n",
      "3              Bihar  2013                                               1693   \n",
      "4        Chhatisgarh  2013                                               1664   \n",
      "\n",
      "   No. of Inmates benefitted by Adult Education  \\\n",
      "0                                         13758   \n",
      "1                                             0   \n",
      "2                                           750   \n",
      "3                                          3013   \n",
      "4                                          1803   \n",
      "\n",
      "   No. of Inmates benefitted by Higher Education  \\\n",
      "0                                            672   \n",
      "1                                              0   \n",
      "2                                             14   \n",
      "3                                            125   \n",
      "4                                            192   \n",
      "\n",
      "   No. of Inmates benefitted by Computer Course  total_benefitted  \n",
      "0                                           170             24080  \n",
      "1                                             0                 0  \n",
      "2                                            30              1470  \n",
      "3                                          1417              6248  \n",
      "4                                           103              3762  \n"
     ]
    }
   ],
   "source": [
    "df = df.append(df.sum(), ignore_index = True)\n",
    "df.at[35, \"STATE/UT\"] = \"totals\"\n",
    "print(df.head())"
   ]
  },
  {
   "cell_type": "markdown",
   "id": "4b0847d1",
   "metadata": {},
   "source": [
    "### 3. Plotting:"
   ]
  },
  {
   "cell_type": "markdown",
   "id": "9c619232",
   "metadata": {},
   "source": [
    "#### a. Make a bar plot with each state name on the x -axis and their total benefitted inmates as their bar heights. Which state has the maximum number of beneficiaries?"
   ]
  },
  {
   "cell_type": "code",
   "execution_count": 8,
   "id": "bb17bc6f",
   "metadata": {},
   "outputs": [
    {
     "data": {
      "image/png": "[encoded data removed]",
      "text/plain": [
       "<Figure size 432x288 with 1 Axes>"
      ]
     },
     "metadata": {
      "needs_background": "light"
     },
     "output_type": "display_data"
    }
   ],
   "source": [
    "x = df['STATE/UT']\n",
    "y = df['total_benefitted']\n",
    "plt.bar(x,y)\n",
    "plt.setp(plt.gca().get_xticklabels(), rotation=90,horizontalalignment='right') \n",
    "plt.title(\"STATE/UT vs Total_inmates_benefitted\")\n",
    "plt.xlabel(\"STATE/UT\")\n",
    "plt.ylabel(\"Total_inmates_benefitted\")\n",
    "plt.show()"
   ]
  },
  {
   "cell_type": "markdown",
   "id": "bbef0310",
   "metadata": {},
   "source": [
    "#### Arunachal Pradesh has the maximum number of beneficiaries."
   ]
  },
  {
   "cell_type": "markdown",
   "id": "bb8b6ae5",
   "metadata": {},
   "source": [
    "####  b. Make a pie chart that depicts the ratio among different modes of benefits."
   ]
  },
  {
   "cell_type": "code",
   "execution_count": 9,
   "id": "9fae1ecb",
   "metadata": {},
   "outputs": [
    {
     "data": {
      "image/png": "[encoded data removed]",
      "text/plain": [
       "<Figure size 432x288 with 1 Axes>"
      ]
     },
     "metadata": {},
     "output_type": "display_data"
    }
   ],
   "source": [
    "labels = df['STATE/UT']\n",
    "values = df['total_benefitted']\n",
    "plt.pie(values, labels = labels, autopct = '%1.1f&&', shadow = True) \n",
    "plt.title(\"Different modes of Total_inmates_benefitted\")\n",
    "plt.show()"
   ]
  },
  {
   "cell_type": "code",
   "execution_count": null,
   "id": "ee009c59",
   "metadata": {},
   "outputs": [],
   "source": []
  }
 ],
 "metadata": {
  "kernelspec": {
   "display_name": "Python 3",
   "language": "python",
   "name": "python3"
  },
  "language_info": {
   "codemirror_mode": {
    "name": "ipython",
    "version": 3
   },
   "file_extension": ".py",
   "mimetype": "text/x-python",
   "name": "python",
   "nbconvert_exporter": "python",
   "pygments_lexer": "ipython3",
   "version": "3.8.8"
  }
 },
 "nbformat": 4,
 "nbformat_minor": 5
}
