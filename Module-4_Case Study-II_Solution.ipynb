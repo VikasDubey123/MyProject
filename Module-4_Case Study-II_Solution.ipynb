{
 "cells": [
  {
   "cell_type": "markdown",
   "id": "c5985655",
   "metadata": {},
   "source": [
    "Approach to Solve\n",
    "You have to use fundamentals of Numpy and Pandas covered in module 4.\n",
    "1. Read the three csv files which contains the score of same students in term1 for each Subject\n",
    "2. Remove the name and ethnicity column (to ensure confidentiality)\n",
    "3. Fill missing score data with zero\n",
    "4. Merge the three files\n",
    "5. Change Sex(M/F) Column to 1/2 for further analysis\n",
    "6. Store the data in new file – ScoreFinal.csv\n",
    "\n",
    "Enhancements for code\n",
    "\n",
    "You can try these enhancements in code\n",
    "1. Convert ethnicity to numerical value\n",
    "2. Fill the missing score for a student to the average of the class"
   ]
  },
  {
   "cell_type": "markdown",
   "id": "bf169a1e",
   "metadata": {},
   "source": [
    "### 1. Read the three csv files which contains the score of same students in term1 for each Subject"
   ]
  },
  {
   "cell_type": "code",
   "execution_count": 1,
   "id": "77f1b550",
   "metadata": {},
   "outputs": [],
   "source": [
    "import warnings\n",
    "warnings.filterwarnings('ignore')\n",
    "import pandas as pd"
   ]
  },
  {
   "cell_type": "code",
   "execution_count": 2,
   "id": "265b6156",
   "metadata": {},
   "outputs": [],
   "source": [
    "df_maths = pd.read_csv('MathScoreTerm1.csv')\n",
    "df_phy = pd.read_csv('PhysicsScoreTerm1.csv')\n",
    "df_DSS = pd.read_csv('DSScoreTerm1.csv')"
   ]
  },
  {
   "cell_type": "code",
   "execution_count": 3,
   "id": "75fff9eb",
   "metadata": {},
   "outputs": [
    {
     "data": {
      "text/html": [
       "<div>\n",
       "<style scoped>\n",
       "    .dataframe tbody tr th:only-of-type {\n",
       "        vertical-align: middle;\n",
       "    }\n",
       "\n",
       "    .dataframe tbody tr th {\n",
       "        vertical-align: top;\n",
       "    }\n",
       "\n",
       "    .dataframe thead th {\n",
       "        text-align: right;\n",
       "    }\n",
       "</style>\n",
       "<table border=\"1\" class=\"dataframe\">\n",
       "  <thead>\n",
       "    <tr style=\"text-align: right;\">\n",
       "      <th></th>\n",
       "      <th>Name</th>\n",
       "      <th>Score</th>\n",
       "      <th>Age</th>\n",
       "      <th>Ethinicity</th>\n",
       "      <th>Subject</th>\n",
       "      <th>Sex</th>\n",
       "      <th>ID</th>\n",
       "    </tr>\n",
       "  </thead>\n",
       "  <tbody>\n",
       "    <tr>\n",
       "      <th>0</th>\n",
       "      <td>AI-KYUNG CHUNG</td>\n",
       "      <td>88.0</td>\n",
       "      <td>18</td>\n",
       "      <td>White American</td>\n",
       "      <td>Maths</td>\n",
       "      <td>M</td>\n",
       "      <td>1</td>\n",
       "    </tr>\n",
       "    <tr>\n",
       "      <th>1</th>\n",
       "      <td>ALAN HARVEY</td>\n",
       "      <td>85.0</td>\n",
       "      <td>19</td>\n",
       "      <td>European American</td>\n",
       "      <td>Maths</td>\n",
       "      <td>M</td>\n",
       "      <td>2</td>\n",
       "    </tr>\n",
       "    <tr>\n",
       "      <th>2</th>\n",
       "      <td>ALAN REYNAUD</td>\n",
       "      <td>45.0</td>\n",
       "      <td>19</td>\n",
       "      <td>European American</td>\n",
       "      <td>Maths</td>\n",
       "      <td>M</td>\n",
       "      <td>3</td>\n",
       "    </tr>\n",
       "    <tr>\n",
       "      <th>3</th>\n",
       "      <td>ALBERT CENDANA</td>\n",
       "      <td>82.0</td>\n",
       "      <td>18</td>\n",
       "      <td>White American</td>\n",
       "      <td>Maths</td>\n",
       "      <td>M</td>\n",
       "      <td>4</td>\n",
       "    </tr>\n",
       "    <tr>\n",
       "      <th>4</th>\n",
       "      <td>ALBERT HOLT JR</td>\n",
       "      <td>82.0</td>\n",
       "      <td>18</td>\n",
       "      <td>White American</td>\n",
       "      <td>Maths</td>\n",
       "      <td>F</td>\n",
       "      <td>5</td>\n",
       "    </tr>\n",
       "  </tbody>\n",
       "</table>\n",
       "</div>"
      ],
      "text/plain": [
       "             Name  Score  Age         Ethinicity Subject Sex  ID\n",
       "0  AI-KYUNG CHUNG   88.0   18     White American   Maths   M   1\n",
       "1     ALAN HARVEY   85.0   19  European American   Maths   M   2\n",
       "2    ALAN REYNAUD   45.0   19  European American   Maths   M   3\n",
       "3  ALBERT CENDANA   82.0   18     White American   Maths   M   4\n",
       "4  ALBERT HOLT JR   82.0   18     White American   Maths   F   5"
      ]
     },
     "execution_count": 3,
     "metadata": {},
     "output_type": "execute_result"
    }
   ],
   "source": [
    "df_maths.head()"
   ]
  },
  {
   "cell_type": "code",
   "execution_count": 4,
   "id": "e57d872d",
   "metadata": {},
   "outputs": [
    {
     "data": {
      "text/html": [
       "<div>\n",
       "<style scoped>\n",
       "    .dataframe tbody tr th:only-of-type {\n",
       "        vertical-align: middle;\n",
       "    }\n",
       "\n",
       "    .dataframe tbody tr th {\n",
       "        vertical-align: top;\n",
       "    }\n",
       "\n",
       "    .dataframe thead th {\n",
       "        text-align: right;\n",
       "    }\n",
       "</style>\n",
       "<table border=\"1\" class=\"dataframe\">\n",
       "  <thead>\n",
       "    <tr style=\"text-align: right;\">\n",
       "      <th></th>\n",
       "      <th>Name</th>\n",
       "      <th>Score</th>\n",
       "      <th>Age</th>\n",
       "      <th>Ethinicity</th>\n",
       "      <th>Subject</th>\n",
       "      <th>Sex</th>\n",
       "      <th>ID</th>\n",
       "    </tr>\n",
       "  </thead>\n",
       "  <tbody>\n",
       "    <tr>\n",
       "      <th>0</th>\n",
       "      <td>AI-KYUNG CHUNG</td>\n",
       "      <td>84.0</td>\n",
       "      <td>18</td>\n",
       "      <td>White American</td>\n",
       "      <td>Physics</td>\n",
       "      <td>M</td>\n",
       "      <td>1</td>\n",
       "    </tr>\n",
       "    <tr>\n",
       "      <th>1</th>\n",
       "      <td>ALAN HARVEY</td>\n",
       "      <td>81.0</td>\n",
       "      <td>19</td>\n",
       "      <td>European American</td>\n",
       "      <td>Physics</td>\n",
       "      <td>M</td>\n",
       "      <td>2</td>\n",
       "    </tr>\n",
       "    <tr>\n",
       "      <th>2</th>\n",
       "      <td>ALAN REYNAUD</td>\n",
       "      <td>41.0</td>\n",
       "      <td>19</td>\n",
       "      <td>European American</td>\n",
       "      <td>Physics</td>\n",
       "      <td>M</td>\n",
       "      <td>3</td>\n",
       "    </tr>\n",
       "    <tr>\n",
       "      <th>3</th>\n",
       "      <td>ALBERT CENDANA</td>\n",
       "      <td>78.0</td>\n",
       "      <td>18</td>\n",
       "      <td>White American</td>\n",
       "      <td>Physics</td>\n",
       "      <td>M</td>\n",
       "      <td>4</td>\n",
       "    </tr>\n",
       "    <tr>\n",
       "      <th>4</th>\n",
       "      <td>ALBERT HOLT JR</td>\n",
       "      <td>78.0</td>\n",
       "      <td>18</td>\n",
       "      <td>White American</td>\n",
       "      <td>Physics</td>\n",
       "      <td>F</td>\n",
       "      <td>5</td>\n",
       "    </tr>\n",
       "  </tbody>\n",
       "</table>\n",
       "</div>"
      ],
      "text/plain": [
       "             Name  Score  Age         Ethinicity  Subject Sex  ID\n",
       "0  AI-KYUNG CHUNG   84.0   18     White American  Physics   M   1\n",
       "1     ALAN HARVEY   81.0   19  European American  Physics   M   2\n",
       "2    ALAN REYNAUD   41.0   19  European American  Physics   M   3\n",
       "3  ALBERT CENDANA   78.0   18     White American  Physics   M   4\n",
       "4  ALBERT HOLT JR   78.0   18     White American  Physics   F   5"
      ]
     },
     "execution_count": 4,
     "metadata": {},
     "output_type": "execute_result"
    }
   ],
   "source": [
    "df_phy.head()"
   ]
  },
  {
   "cell_type": "code",
   "execution_count": 5,
   "id": "e846e2cd",
   "metadata": {},
   "outputs": [
    {
     "data": {
      "text/html": [
       "<div>\n",
       "<style scoped>\n",
       "    .dataframe tbody tr th:only-of-type {\n",
       "        vertical-align: middle;\n",
       "    }\n",
       "\n",
       "    .dataframe tbody tr th {\n",
       "        vertical-align: top;\n",
       "    }\n",
       "\n",
       "    .dataframe thead th {\n",
       "        text-align: right;\n",
       "    }\n",
       "</style>\n",
       "<table border=\"1\" class=\"dataframe\">\n",
       "  <thead>\n",
       "    <tr style=\"text-align: right;\">\n",
       "      <th></th>\n",
       "      <th>Name</th>\n",
       "      <th>Score</th>\n",
       "      <th>Age</th>\n",
       "      <th>Ethinicity</th>\n",
       "      <th>Subject</th>\n",
       "      <th>Sex</th>\n",
       "      <th>ID</th>\n",
       "    </tr>\n",
       "  </thead>\n",
       "  <tbody>\n",
       "    <tr>\n",
       "      <th>0</th>\n",
       "      <td>AI-KYUNG CHUNG</td>\n",
       "      <td>82.0</td>\n",
       "      <td>18</td>\n",
       "      <td>White American</td>\n",
       "      <td>Data Structue</td>\n",
       "      <td>M</td>\n",
       "      <td>1</td>\n",
       "    </tr>\n",
       "    <tr>\n",
       "      <th>1</th>\n",
       "      <td>ALAN HARVEY</td>\n",
       "      <td>79.0</td>\n",
       "      <td>19</td>\n",
       "      <td>European American</td>\n",
       "      <td>Data Structue</td>\n",
       "      <td>M</td>\n",
       "      <td>2</td>\n",
       "    </tr>\n",
       "    <tr>\n",
       "      <th>2</th>\n",
       "      <td>ALAN REYNAUD</td>\n",
       "      <td>39.0</td>\n",
       "      <td>19</td>\n",
       "      <td>European American</td>\n",
       "      <td>Data Structue</td>\n",
       "      <td>M</td>\n",
       "      <td>3</td>\n",
       "    </tr>\n",
       "    <tr>\n",
       "      <th>3</th>\n",
       "      <td>ALBERT CENDANA</td>\n",
       "      <td>76.0</td>\n",
       "      <td>18</td>\n",
       "      <td>White American</td>\n",
       "      <td>Data Structue</td>\n",
       "      <td>M</td>\n",
       "      <td>4</td>\n",
       "    </tr>\n",
       "    <tr>\n",
       "      <th>4</th>\n",
       "      <td>ALBERT HOLT JR</td>\n",
       "      <td>76.0</td>\n",
       "      <td>18</td>\n",
       "      <td>White American</td>\n",
       "      <td>Data Structue</td>\n",
       "      <td>F</td>\n",
       "      <td>5</td>\n",
       "    </tr>\n",
       "  </tbody>\n",
       "</table>\n",
       "</div>"
      ],
      "text/plain": [
       "             Name  Score  Age         Ethinicity        Subject Sex  ID\n",
       "0  AI-KYUNG CHUNG   82.0   18     White American  Data Structue   M   1\n",
       "1     ALAN HARVEY   79.0   19  European American  Data Structue   M   2\n",
       "2    ALAN REYNAUD   39.0   19  European American  Data Structue   M   3\n",
       "3  ALBERT CENDANA   76.0   18     White American  Data Structue   M   4\n",
       "4  ALBERT HOLT JR   76.0   18     White American  Data Structue   F   5"
      ]
     },
     "execution_count": 5,
     "metadata": {},
     "output_type": "execute_result"
    }
   ],
   "source": [
    "df_DSS.head()"
   ]
  },
  {
   "cell_type": "markdown",
   "id": "0b7a076d",
   "metadata": {},
   "source": [
    "### 2. Remove the name and ethnicity column (to ensure confidentiality)"
   ]
  },
  {
   "cell_type": "code",
   "execution_count": 6,
   "id": "6f3950af",
   "metadata": {},
   "outputs": [],
   "source": [
    "df_maths.drop(['Name','Ethinicity'], axis=1, inplace=True)"
   ]
  },
  {
   "cell_type": "code",
   "execution_count": 7,
   "id": "84ec2314",
   "metadata": {},
   "outputs": [
    {
     "data": {
      "text/html": [
       "<div>\n",
       "<style scoped>\n",
       "    .dataframe tbody tr th:only-of-type {\n",
       "        vertical-align: middle;\n",
       "    }\n",
       "\n",
       "    .dataframe tbody tr th {\n",
       "        vertical-align: top;\n",
       "    }\n",
       "\n",
       "    .dataframe thead th {\n",
       "        text-align: right;\n",
       "    }\n",
       "</style>\n",
       "<table border=\"1\" class=\"dataframe\">\n",
       "  <thead>\n",
       "    <tr style=\"text-align: right;\">\n",
       "      <th></th>\n",
       "      <th>Score</th>\n",
       "      <th>Age</th>\n",
       "      <th>Subject</th>\n",
       "      <th>Sex</th>\n",
       "      <th>ID</th>\n",
       "    </tr>\n",
       "  </thead>\n",
       "  <tbody>\n",
       "    <tr>\n",
       "      <th>0</th>\n",
       "      <td>88.0</td>\n",
       "      <td>18</td>\n",
       "      <td>Maths</td>\n",
       "      <td>M</td>\n",
       "      <td>1</td>\n",
       "    </tr>\n",
       "    <tr>\n",
       "      <th>1</th>\n",
       "      <td>85.0</td>\n",
       "      <td>19</td>\n",
       "      <td>Maths</td>\n",
       "      <td>M</td>\n",
       "      <td>2</td>\n",
       "    </tr>\n",
       "    <tr>\n",
       "      <th>2</th>\n",
       "      <td>45.0</td>\n",
       "      <td>19</td>\n",
       "      <td>Maths</td>\n",
       "      <td>M</td>\n",
       "      <td>3</td>\n",
       "    </tr>\n",
       "    <tr>\n",
       "      <th>3</th>\n",
       "      <td>82.0</td>\n",
       "      <td>18</td>\n",
       "      <td>Maths</td>\n",
       "      <td>M</td>\n",
       "      <td>4</td>\n",
       "    </tr>\n",
       "    <tr>\n",
       "      <th>4</th>\n",
       "      <td>82.0</td>\n",
       "      <td>18</td>\n",
       "      <td>Maths</td>\n",
       "      <td>F</td>\n",
       "      <td>5</td>\n",
       "    </tr>\n",
       "  </tbody>\n",
       "</table>\n",
       "</div>"
      ],
      "text/plain": [
       "   Score  Age Subject Sex  ID\n",
       "0   88.0   18   Maths   M   1\n",
       "1   85.0   19   Maths   M   2\n",
       "2   45.0   19   Maths   M   3\n",
       "3   82.0   18   Maths   M   4\n",
       "4   82.0   18   Maths   F   5"
      ]
     },
     "execution_count": 7,
     "metadata": {},
     "output_type": "execute_result"
    }
   ],
   "source": [
    "df_maths.head()"
   ]
  },
  {
   "cell_type": "code",
   "execution_count": 8,
   "id": "8ac86dfe",
   "metadata": {},
   "outputs": [
    {
     "data": {
      "text/html": [
       "<div>\n",
       "<style scoped>\n",
       "    .dataframe tbody tr th:only-of-type {\n",
       "        vertical-align: middle;\n",
       "    }\n",
       "\n",
       "    .dataframe tbody tr th {\n",
       "        vertical-align: top;\n",
       "    }\n",
       "\n",
       "    .dataframe thead th {\n",
       "        text-align: right;\n",
       "    }\n",
       "</style>\n",
       "<table border=\"1\" class=\"dataframe\">\n",
       "  <thead>\n",
       "    <tr style=\"text-align: right;\">\n",
       "      <th></th>\n",
       "      <th>Score</th>\n",
       "      <th>Age</th>\n",
       "      <th>Subject</th>\n",
       "      <th>Sex</th>\n",
       "      <th>ID</th>\n",
       "    </tr>\n",
       "  </thead>\n",
       "  <tbody>\n",
       "    <tr>\n",
       "      <th>0</th>\n",
       "      <td>84.0</td>\n",
       "      <td>18</td>\n",
       "      <td>Physics</td>\n",
       "      <td>M</td>\n",
       "      <td>1</td>\n",
       "    </tr>\n",
       "    <tr>\n",
       "      <th>1</th>\n",
       "      <td>81.0</td>\n",
       "      <td>19</td>\n",
       "      <td>Physics</td>\n",
       "      <td>M</td>\n",
       "      <td>2</td>\n",
       "    </tr>\n",
       "    <tr>\n",
       "      <th>2</th>\n",
       "      <td>41.0</td>\n",
       "      <td>19</td>\n",
       "      <td>Physics</td>\n",
       "      <td>M</td>\n",
       "      <td>3</td>\n",
       "    </tr>\n",
       "    <tr>\n",
       "      <th>3</th>\n",
       "      <td>78.0</td>\n",
       "      <td>18</td>\n",
       "      <td>Physics</td>\n",
       "      <td>M</td>\n",
       "      <td>4</td>\n",
       "    </tr>\n",
       "    <tr>\n",
       "      <th>4</th>\n",
       "      <td>78.0</td>\n",
       "      <td>18</td>\n",
       "      <td>Physics</td>\n",
       "      <td>F</td>\n",
       "      <td>5</td>\n",
       "    </tr>\n",
       "  </tbody>\n",
       "</table>\n",
       "</div>"
      ],
      "text/plain": [
       "   Score  Age  Subject Sex  ID\n",
       "0   84.0   18  Physics   M   1\n",
       "1   81.0   19  Physics   M   2\n",
       "2   41.0   19  Physics   M   3\n",
       "3   78.0   18  Physics   M   4\n",
       "4   78.0   18  Physics   F   5"
      ]
     },
     "execution_count": 8,
     "metadata": {},
     "output_type": "execute_result"
    }
   ],
   "source": [
    "df_phy.drop(['Name','Ethinicity'], axis=1, inplace=True)\n",
    "df_phy.head()"
   ]
  },
  {
   "cell_type": "code",
   "execution_count": 9,
   "id": "f9b76c19",
   "metadata": {},
   "outputs": [
    {
     "data": {
      "text/html": [
       "<div>\n",
       "<style scoped>\n",
       "    .dataframe tbody tr th:only-of-type {\n",
       "        vertical-align: middle;\n",
       "    }\n",
       "\n",
       "    .dataframe tbody tr th {\n",
       "        vertical-align: top;\n",
       "    }\n",
       "\n",
       "    .dataframe thead th {\n",
       "        text-align: right;\n",
       "    }\n",
       "</style>\n",
       "<table border=\"1\" class=\"dataframe\">\n",
       "  <thead>\n",
       "    <tr style=\"text-align: right;\">\n",
       "      <th></th>\n",
       "      <th>Score</th>\n",
       "      <th>Age</th>\n",
       "      <th>Subject</th>\n",
       "      <th>Sex</th>\n",
       "      <th>ID</th>\n",
       "    </tr>\n",
       "  </thead>\n",
       "  <tbody>\n",
       "    <tr>\n",
       "      <th>0</th>\n",
       "      <td>82.0</td>\n",
       "      <td>18</td>\n",
       "      <td>Data Structue</td>\n",
       "      <td>M</td>\n",
       "      <td>1</td>\n",
       "    </tr>\n",
       "    <tr>\n",
       "      <th>1</th>\n",
       "      <td>79.0</td>\n",
       "      <td>19</td>\n",
       "      <td>Data Structue</td>\n",
       "      <td>M</td>\n",
       "      <td>2</td>\n",
       "    </tr>\n",
       "    <tr>\n",
       "      <th>2</th>\n",
       "      <td>39.0</td>\n",
       "      <td>19</td>\n",
       "      <td>Data Structue</td>\n",
       "      <td>M</td>\n",
       "      <td>3</td>\n",
       "    </tr>\n",
       "    <tr>\n",
       "      <th>3</th>\n",
       "      <td>76.0</td>\n",
       "      <td>18</td>\n",
       "      <td>Data Structue</td>\n",
       "      <td>M</td>\n",
       "      <td>4</td>\n",
       "    </tr>\n",
       "    <tr>\n",
       "      <th>4</th>\n",
       "      <td>76.0</td>\n",
       "      <td>18</td>\n",
       "      <td>Data Structue</td>\n",
       "      <td>F</td>\n",
       "      <td>5</td>\n",
       "    </tr>\n",
       "  </tbody>\n",
       "</table>\n",
       "</div>"
      ],
      "text/plain": [
       "   Score  Age        Subject Sex  ID\n",
       "0   82.0   18  Data Structue   M   1\n",
       "1   79.0   19  Data Structue   M   2\n",
       "2   39.0   19  Data Structue   M   3\n",
       "3   76.0   18  Data Structue   M   4\n",
       "4   76.0   18  Data Structue   F   5"
      ]
     },
     "execution_count": 9,
     "metadata": {},
     "output_type": "execute_result"
    }
   ],
   "source": [
    "df_DSS.drop(['Name','Ethinicity'], axis=1, inplace=True)\n",
    "df_DSS.head()"
   ]
  },
  {
   "cell_type": "markdown",
   "id": "5a89a943",
   "metadata": {},
   "source": [
    "### 3. Fill missing score data with zero"
   ]
  },
  {
   "cell_type": "code",
   "execution_count": 10,
   "id": "fc4fcb5d",
   "metadata": {},
   "outputs": [
    {
     "name": "stdout",
     "output_type": "stream",
     "text": [
      "<class 'pandas.core.frame.DataFrame'>\n",
      "RangeIndex: 599 entries, 0 to 598\n",
      "Data columns (total 5 columns):\n",
      " #   Column   Non-Null Count  Dtype  \n",
      "---  ------   --------------  -----  \n",
      " 0   Score    596 non-null    float64\n",
      " 1   Age      599 non-null    int64  \n",
      " 2   Subject  599 non-null    object \n",
      " 3   Sex      599 non-null    object \n",
      " 4   ID       599 non-null    int64  \n",
      "dtypes: float64(1), int64(2), object(2)\n",
      "memory usage: 23.5+ KB\n"
     ]
    }
   ],
   "source": [
    "df_maths.info()"
   ]
  },
  {
   "cell_type": "code",
   "execution_count": 11,
   "id": "a165d8b7",
   "metadata": {},
   "outputs": [],
   "source": [
    "df_maths = df_maths.fillna(0)"
   ]
  },
  {
   "cell_type": "code",
   "execution_count": 12,
   "id": "d8d0a793",
   "metadata": {},
   "outputs": [
    {
     "name": "stdout",
     "output_type": "stream",
     "text": [
      "<class 'pandas.core.frame.DataFrame'>\n",
      "RangeIndex: 599 entries, 0 to 598\n",
      "Data columns (total 5 columns):\n",
      " #   Column   Non-Null Count  Dtype  \n",
      "---  ------   --------------  -----  \n",
      " 0   Score    599 non-null    float64\n",
      " 1   Age      599 non-null    int64  \n",
      " 2   Subject  599 non-null    object \n",
      " 3   Sex      599 non-null    object \n",
      " 4   ID       599 non-null    int64  \n",
      "dtypes: float64(1), int64(2), object(2)\n",
      "memory usage: 23.5+ KB\n"
     ]
    }
   ],
   "source": [
    "df_maths.info()"
   ]
  },
  {
   "cell_type": "code",
   "execution_count": 13,
   "id": "ca7b7f6e",
   "metadata": {},
   "outputs": [],
   "source": [
    "df_phy = df_phy.fillna(0)"
   ]
  },
  {
   "cell_type": "code",
   "execution_count": 14,
   "id": "13581069",
   "metadata": {},
   "outputs": [],
   "source": [
    "df_DSS = df_DSS.fillna(0)"
   ]
  },
  {
   "cell_type": "code",
   "execution_count": 15,
   "id": "c92880da",
   "metadata": {},
   "outputs": [
    {
     "name": "stdout",
     "output_type": "stream",
     "text": [
      "<class 'pandas.core.frame.DataFrame'>\n",
      "RangeIndex: 599 entries, 0 to 598\n",
      "Data columns (total 5 columns):\n",
      " #   Column   Non-Null Count  Dtype  \n",
      "---  ------   --------------  -----  \n",
      " 0   Score    599 non-null    float64\n",
      " 1   Age      599 non-null    int64  \n",
      " 2   Subject  599 non-null    object \n",
      " 3   Sex      599 non-null    object \n",
      " 4   ID       599 non-null    int64  \n",
      "dtypes: float64(1), int64(2), object(2)\n",
      "memory usage: 23.5+ KB\n"
     ]
    }
   ],
   "source": [
    "df_phy.info()"
   ]
  },
  {
   "cell_type": "code",
   "execution_count": 16,
   "id": "bdcb2c5c",
   "metadata": {},
   "outputs": [
    {
     "name": "stdout",
     "output_type": "stream",
     "text": [
      "<class 'pandas.core.frame.DataFrame'>\n",
      "RangeIndex: 599 entries, 0 to 598\n",
      "Data columns (total 5 columns):\n",
      " #   Column   Non-Null Count  Dtype  \n",
      "---  ------   --------------  -----  \n",
      " 0   Score    599 non-null    float64\n",
      " 1   Age      599 non-null    int64  \n",
      " 2   Subject  599 non-null    object \n",
      " 3   Sex      599 non-null    object \n",
      " 4   ID       599 non-null    int64  \n",
      "dtypes: float64(1), int64(2), object(2)\n",
      "memory usage: 23.5+ KB\n"
     ]
    }
   ],
   "source": [
    "df_DSS.info()"
   ]
  },
  {
   "cell_type": "markdown",
   "id": "bb2c14b9",
   "metadata": {},
   "source": [
    "### 4. Merge the three files"
   ]
  },
  {
   "cell_type": "code",
   "execution_count": 17,
   "id": "ca958df4",
   "metadata": {},
   "outputs": [],
   "source": [
    "df_merge = pd.concat([df_maths, df_phy, df_DSS], ignore_index=True)"
   ]
  },
  {
   "cell_type": "code",
   "execution_count": 18,
   "id": "2065a99d",
   "metadata": {},
   "outputs": [
    {
     "name": "stdout",
     "output_type": "stream",
     "text": [
      "<class 'pandas.core.frame.DataFrame'>\n",
      "RangeIndex: 1797 entries, 0 to 1796\n",
      "Data columns (total 5 columns):\n",
      " #   Column   Non-Null Count  Dtype  \n",
      "---  ------   --------------  -----  \n",
      " 0   Score    1797 non-null   float64\n",
      " 1   Age      1797 non-null   int64  \n",
      " 2   Subject  1797 non-null   object \n",
      " 3   Sex      1797 non-null   object \n",
      " 4   ID       1797 non-null   int64  \n",
      "dtypes: float64(1), int64(2), object(2)\n",
      "memory usage: 70.3+ KB\n"
     ]
    }
   ],
   "source": [
    "df_merge.info()"
   ]
  },
  {
   "cell_type": "markdown",
   "id": "5d0e730b",
   "metadata": {},
   "source": [
    "### 5. Change Sex(M/F) Column to 1/2 for further analysis"
   ]
  },
  {
   "cell_type": "code",
   "execution_count": 19,
   "id": "19b7f7a7",
   "metadata": {},
   "outputs": [
    {
     "name": "stdout",
     "output_type": "stream",
     "text": [
      "      Score  Age        Subject  Sex   ID\n",
      "0      88.0   18          Maths    1    1\n",
      "1      85.0   19          Maths    1    2\n",
      "2      45.0   19          Maths    1    3\n",
      "3      82.0   18          Maths    1    4\n",
      "4      82.0   18          Maths    2    5\n",
      "...     ...  ...            ...  ...  ...\n",
      "1792   39.0   19  Data Structue    2  595\n",
      "1793   69.0   18  Data Structue    1  596\n",
      "1794   47.0   20  Data Structue    1  597\n",
      "1795   69.0   20  Data Structue    1  598\n",
      "1796    0.0   19  Data Structue    1  599\n",
      "\n",
      "[1797 rows x 5 columns]\n"
     ]
    }
   ],
   "source": [
    "df_merge[\"Sex\"] = [1 if sex == \"M\" else 2 for sex in df_merge[\"Sex\"]]\n",
    "print(df_merge)"
   ]
  },
  {
   "cell_type": "markdown",
   "id": "73af73c4",
   "metadata": {},
   "source": [
    "### 6. Store the data in new file – ScoreFinal.csv"
   ]
  },
  {
   "cell_type": "code",
   "execution_count": 20,
   "id": "38eeb013",
   "metadata": {},
   "outputs": [],
   "source": [
    "df_merge.to_csv(\"ScoreFinal.csv\")"
   ]
  },
  {
   "cell_type": "markdown",
   "id": "e3298fd3",
   "metadata": {},
   "source": [
    "Enhancements for code\n",
    "\n",
    "You can try these enhancements in code\n",
    "\n",
    "1. Convert ethnicity to numerical value\n",
    "2. Fill the missing score for a student to the average of the class"
   ]
  },
  {
   "cell_type": "code",
   "execution_count": 21,
   "id": "8999da00",
   "metadata": {},
   "outputs": [],
   "source": [
    "df1_maths = pd.read_csv('MathScoreTerm1.csv')\n",
    "df1_phy = pd.read_csv('PhysicsScoreTerm1.csv')\n",
    "df1_DSS = pd.read_csv('DSScoreTerm1.csv')"
   ]
  },
  {
   "cell_type": "markdown",
   "id": "cf68e908",
   "metadata": {},
   "source": [
    "### 1. Convert ethnicity to numerical value"
   ]
  },
  {
   "cell_type": "code",
   "execution_count": 22,
   "id": "8064bcf2",
   "metadata": {},
   "outputs": [
    {
     "data": {
      "text/plain": [
       "White American       288\n",
       "European American    156\n",
       "Hispanic             124\n",
       "African American      31\n",
       "Name: Ethinicity, dtype: int64"
      ]
     },
     "execution_count": 22,
     "metadata": {},
     "output_type": "execute_result"
    }
   ],
   "source": [
    "df1_maths['Ethinicity'].value_counts()"
   ]
  },
  {
   "cell_type": "code",
   "execution_count": 23,
   "id": "9e56c721",
   "metadata": {},
   "outputs": [
    {
     "data": {
      "text/plain": [
       "White American       288\n",
       "European American    156\n",
       "Hispanic             124\n",
       "African American      31\n",
       "Name: Ethinicity, dtype: int64"
      ]
     },
     "execution_count": 23,
     "metadata": {},
     "output_type": "execute_result"
    }
   ],
   "source": [
    "df1_phy['Ethinicity'].value_counts()"
   ]
  },
  {
   "cell_type": "code",
   "execution_count": 24,
   "id": "5aaec5c1",
   "metadata": {},
   "outputs": [
    {
     "data": {
      "text/plain": [
       "White American       288\n",
       "European American    156\n",
       "Hispanic             124\n",
       "African American      31\n",
       "Name: Ethinicity, dtype: int64"
      ]
     },
     "execution_count": 24,
     "metadata": {},
     "output_type": "execute_result"
    }
   ],
   "source": [
    "df1_DSS['Ethinicity'].value_counts()"
   ]
  },
  {
   "cell_type": "code",
   "execution_count": 25,
   "id": "f1af1cfd",
   "metadata": {},
   "outputs": [],
   "source": [
    "for ethin in range(len(df1_maths['Ethinicity'])):\n",
    "    if df1_maths['Ethinicity'][ethin] == 'White American':\n",
    "        df1_maths['Ethinicity'][ethin] = 1 \n",
    "    elif df1_maths['Ethinicity'][ethin] == 'European American':\n",
    "        df1_maths['Ethinicity'][ethin] = 2\n",
    "    elif df1_maths['Ethinicity'][ethin] == 'Hispanic':\n",
    "        df1_maths['Ethinicity'][ethin] = 3\n",
    "    else:\n",
    "        df1_maths['Ethinicity'][ethin] = 4"
   ]
  },
  {
   "cell_type": "code",
   "execution_count": 26,
   "id": "1dacd11e",
   "metadata": {},
   "outputs": [
    {
     "data": {
      "text/plain": [
       "1    288\n",
       "2    156\n",
       "3    124\n",
       "4     31\n",
       "Name: Ethinicity, dtype: int64"
      ]
     },
     "execution_count": 26,
     "metadata": {},
     "output_type": "execute_result"
    }
   ],
   "source": [
    "df1_maths['Ethinicity'].value_counts()"
   ]
  },
  {
   "cell_type": "code",
   "execution_count": 27,
   "id": "7775dbc0",
   "metadata": {},
   "outputs": [],
   "source": [
    "for ethin in range(len(df1_phy['Ethinicity'])):\n",
    "    if df1_phy['Ethinicity'][ethin] == 'White American':\n",
    "        df1_phy['Ethinicity'][ethin] = 1 \n",
    "    elif df1_phy['Ethinicity'][ethin] == 'European American':\n",
    "        df1_phy['Ethinicity'][ethin] = 2\n",
    "    elif df1_phy['Ethinicity'][ethin] == 'Hispanic':\n",
    "        df1_phy['Ethinicity'][ethin] = 3\n",
    "    else:\n",
    "        df1_phy['Ethinicity'][ethin] = 4"
   ]
  },
  {
   "cell_type": "code",
   "execution_count": 28,
   "id": "0755e9d3",
   "metadata": {},
   "outputs": [
    {
     "data": {
      "text/plain": [
       "1    288\n",
       "2    156\n",
       "3    124\n",
       "4     31\n",
       "Name: Ethinicity, dtype: int64"
      ]
     },
     "execution_count": 28,
     "metadata": {},
     "output_type": "execute_result"
    }
   ],
   "source": [
    "df1_phy['Ethinicity'].value_counts()"
   ]
  },
  {
   "cell_type": "code",
   "execution_count": 29,
   "id": "674f7341",
   "metadata": {},
   "outputs": [],
   "source": [
    "for ethin in range(len(df1_DSS['Ethinicity'])):\n",
    "    if df1_DSS['Ethinicity'][ethin] == 'White American':\n",
    "        df1_DSS['Ethinicity'][ethin] = 1 \n",
    "    elif df1_DSS['Ethinicity'][ethin] == 'European American':\n",
    "        df1_DSS['Ethinicity'][ethin] = 2\n",
    "    elif df1_DSS['Ethinicity'][ethin] == 'Hispanic':\n",
    "        df1_DSS['Ethinicity'][ethin] = 3\n",
    "    else:\n",
    "        df1_DSS['Ethinicity'][ethin] = 4"
   ]
  },
  {
   "cell_type": "code",
   "execution_count": 30,
   "id": "d53445a9",
   "metadata": {},
   "outputs": [
    {
     "data": {
      "text/plain": [
       "1    288\n",
       "2    156\n",
       "3    124\n",
       "4     31\n",
       "Name: Ethinicity, dtype: int64"
      ]
     },
     "execution_count": 30,
     "metadata": {},
     "output_type": "execute_result"
    }
   ],
   "source": [
    "df1_DSS['Ethinicity'].value_counts()"
   ]
  },
  {
   "cell_type": "markdown",
   "id": "c64c377d",
   "metadata": {},
   "source": [
    "### 2. Fill the missing score for a student to the average of the class"
   ]
  },
  {
   "cell_type": "code",
   "execution_count": 31,
   "id": "0755dfa6",
   "metadata": {},
   "outputs": [
    {
     "name": "stdout",
     "output_type": "stream",
     "text": [
      "<class 'pandas.core.frame.DataFrame'>\n",
      "RangeIndex: 599 entries, 0 to 598\n",
      "Data columns (total 7 columns):\n",
      " #   Column      Non-Null Count  Dtype  \n",
      "---  ------      --------------  -----  \n",
      " 0   Name        599 non-null    object \n",
      " 1   Score       596 non-null    float64\n",
      " 2   Age         599 non-null    int64  \n",
      " 3   Ethinicity  599 non-null    object \n",
      " 4   Subject     599 non-null    object \n",
      " 5   Sex         599 non-null    object \n",
      " 6   ID          599 non-null    int64  \n",
      "dtypes: float64(1), int64(2), object(4)\n",
      "memory usage: 32.9+ KB\n"
     ]
    }
   ],
   "source": [
    "df1_maths.info()"
   ]
  },
  {
   "cell_type": "code",
   "execution_count": 32,
   "id": "bada2d73",
   "metadata": {},
   "outputs": [],
   "source": [
    "df2_maths = df1_maths.fillna(df1_maths['Score'].mean())"
   ]
  },
  {
   "cell_type": "code",
   "execution_count": 33,
   "id": "3aebb681",
   "metadata": {},
   "outputs": [
    {
     "name": "stdout",
     "output_type": "stream",
     "text": [
      "<class 'pandas.core.frame.DataFrame'>\n",
      "RangeIndex: 599 entries, 0 to 598\n",
      "Data columns (total 7 columns):\n",
      " #   Column      Non-Null Count  Dtype  \n",
      "---  ------      --------------  -----  \n",
      " 0   Name        599 non-null    object \n",
      " 1   Score       599 non-null    float64\n",
      " 2   Age         599 non-null    int64  \n",
      " 3   Ethinicity  599 non-null    int64  \n",
      " 4   Subject     599 non-null    object \n",
      " 5   Sex         599 non-null    object \n",
      " 6   ID          599 non-null    int64  \n",
      "dtypes: float64(1), int64(3), object(3)\n",
      "memory usage: 32.9+ KB\n"
     ]
    }
   ],
   "source": [
    "df2_maths.info()"
   ]
  },
  {
   "cell_type": "code",
   "execution_count": 34,
   "id": "37343aeb",
   "metadata": {},
   "outputs": [],
   "source": [
    "df2_phy = df1_phy.fillna(df1_phy['Score'].mean())"
   ]
  },
  {
   "cell_type": "code",
   "execution_count": 35,
   "id": "e0bbfdaf",
   "metadata": {},
   "outputs": [
    {
     "name": "stdout",
     "output_type": "stream",
     "text": [
      "<class 'pandas.core.frame.DataFrame'>\n",
      "RangeIndex: 599 entries, 0 to 598\n",
      "Data columns (total 7 columns):\n",
      " #   Column      Non-Null Count  Dtype  \n",
      "---  ------      --------------  -----  \n",
      " 0   Name        599 non-null    object \n",
      " 1   Score       599 non-null    float64\n",
      " 2   Age         599 non-null    int64  \n",
      " 3   Ethinicity  599 non-null    int64  \n",
      " 4   Subject     599 non-null    object \n",
      " 5   Sex         599 non-null    object \n",
      " 6   ID          599 non-null    int64  \n",
      "dtypes: float64(1), int64(3), object(3)\n",
      "memory usage: 32.9+ KB\n"
     ]
    }
   ],
   "source": [
    "df2_phy.info()"
   ]
  },
  {
   "cell_type": "code",
   "execution_count": 36,
   "id": "7ba4af8a",
   "metadata": {},
   "outputs": [],
   "source": [
    "df2_DSS = df1_DSS.fillna(df1_DSS['Score'].mean())"
   ]
  },
  {
   "cell_type": "code",
   "execution_count": 37,
   "id": "e07b8223",
   "metadata": {},
   "outputs": [
    {
     "name": "stdout",
     "output_type": "stream",
     "text": [
      "<class 'pandas.core.frame.DataFrame'>\n",
      "RangeIndex: 599 entries, 0 to 598\n",
      "Data columns (total 7 columns):\n",
      " #   Column      Non-Null Count  Dtype  \n",
      "---  ------      --------------  -----  \n",
      " 0   Name        599 non-null    object \n",
      " 1   Score       599 non-null    float64\n",
      " 2   Age         599 non-null    int64  \n",
      " 3   Ethinicity  599 non-null    int64  \n",
      " 4   Subject     599 non-null    object \n",
      " 5   Sex         599 non-null    object \n",
      " 6   ID          599 non-null    int64  \n",
      "dtypes: float64(1), int64(3), object(3)\n",
      "memory usage: 32.9+ KB\n"
     ]
    }
   ],
   "source": [
    "df2_DSS.info()"
   ]
  },
  {
   "cell_type": "code",
   "execution_count": null,
   "id": "f63dbc99",
   "metadata": {},
   "outputs": [],
   "source": []
  }
 ],
 "metadata": {
  "kernelspec": {
   "display_name": "Python 3",
   "language": "python",
   "name": "python3"
  },
  "language_info": {
   "codemirror_mode": {
    "name": "ipython",
    "version": 3
   },
   "file_extension": ".py",
   "mimetype": "text/x-python",
   "name": "python",
   "nbconvert_exporter": "python",
   "pygments_lexer": "ipython3",
   "version": "3.8.8"
  }
 },
 "nbformat": 4,
 "nbformat_minor": 5
}
