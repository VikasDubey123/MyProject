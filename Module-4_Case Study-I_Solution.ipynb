{
 "cells": [
  {
   "cell_type": "markdown",
   "id": "2277d2a0",
   "metadata": {},
   "source": [
    "### 1. Extract data from the given SalaryGender CSV file and store the data from each column in a separate NumPy array"
   ]
  },
  {
   "cell_type": "code",
   "execution_count": 1,
   "id": "3f90d4d6",
   "metadata": {},
   "outputs": [],
   "source": [
    "import numpy as np\n",
    "import pandas as pd\n",
    "import matplotlib.pyplot as plt\n",
    "import seaborn as sns"
   ]
  },
  {
   "cell_type": "code",
   "execution_count": 2,
   "id": "39c26de4",
   "metadata": {},
   "outputs": [],
   "source": [
    "# Reading SalaryGender.CSV file\n",
    "df = pd.read_csv('SalaryGender.csv')"
   ]
  },
  {
   "cell_type": "code",
   "execution_count": 3,
   "id": "c349ecf8",
   "metadata": {},
   "outputs": [
    {
     "data": {
      "text/html": [
       "<div>\n",
       "<style scoped>\n",
       "    .dataframe tbody tr th:only-of-type {\n",
       "        vertical-align: middle;\n",
       "    }\n",
       "\n",
       "    .dataframe tbody tr th {\n",
       "        vertical-align: top;\n",
       "    }\n",
       "\n",
       "    .dataframe thead th {\n",
       "        text-align: right;\n",
       "    }\n",
       "</style>\n",
       "<table border=\"1\" class=\"dataframe\">\n",
       "  <thead>\n",
       "    <tr style=\"text-align: right;\">\n",
       "      <th></th>\n",
       "      <th>Salary</th>\n",
       "      <th>Gender</th>\n",
       "      <th>Age</th>\n",
       "      <th>PhD</th>\n",
       "    </tr>\n",
       "  </thead>\n",
       "  <tbody>\n",
       "    <tr>\n",
       "      <th>0</th>\n",
       "      <td>140.0</td>\n",
       "      <td>1</td>\n",
       "      <td>47</td>\n",
       "      <td>1</td>\n",
       "    </tr>\n",
       "    <tr>\n",
       "      <th>1</th>\n",
       "      <td>30.0</td>\n",
       "      <td>0</td>\n",
       "      <td>65</td>\n",
       "      <td>1</td>\n",
       "    </tr>\n",
       "    <tr>\n",
       "      <th>2</th>\n",
       "      <td>35.1</td>\n",
       "      <td>0</td>\n",
       "      <td>56</td>\n",
       "      <td>0</td>\n",
       "    </tr>\n",
       "    <tr>\n",
       "      <th>3</th>\n",
       "      <td>30.0</td>\n",
       "      <td>1</td>\n",
       "      <td>23</td>\n",
       "      <td>0</td>\n",
       "    </tr>\n",
       "    <tr>\n",
       "      <th>4</th>\n",
       "      <td>80.0</td>\n",
       "      <td>0</td>\n",
       "      <td>53</td>\n",
       "      <td>1</td>\n",
       "    </tr>\n",
       "  </tbody>\n",
       "</table>\n",
       "</div>"
      ],
      "text/plain": [
       "   Salary  Gender  Age  PhD\n",
       "0   140.0       1   47    1\n",
       "1    30.0       0   65    1\n",
       "2    35.1       0   56    0\n",
       "3    30.0       1   23    0\n",
       "4    80.0       0   53    1"
      ]
     },
     "execution_count": 3,
     "metadata": {},
     "output_type": "execute_result"
    }
   ],
   "source": [
    "df.head()"
   ]
  },
  {
   "cell_type": "code",
   "execution_count": 4,
   "id": "6091f143",
   "metadata": {},
   "outputs": [],
   "source": [
    "# Storing data from each ccolumn into separate NumPy Array\n",
    "Sal = np.array(df['Salary'])\n",
    "Gen = np.array(df['Gender'])\n",
    "Age = np.array(df['Age'])\n",
    "Phd = np.array(df['PhD'])"
   ]
  },
  {
   "cell_type": "markdown",
   "id": "c11a863d",
   "metadata": {},
   "source": [
    "### 2. Find: \n",
    "    1. The number of men with a PhD \n",
    "    2. The number of women with a PhD"
   ]
  },
  {
   "cell_type": "code",
   "execution_count": 5,
   "id": "8e430787",
   "metadata": {},
   "outputs": [
    {
     "name": "stdout",
     "output_type": "stream",
     "text": [
      "Number of mens with PhD:  15\n"
     ]
    }
   ],
   "source": [
    "# Number of Men with PhD\n",
    "a = 0\n",
    "for i in range(0,len(Gen)):\n",
    "    if Gen[i] == 0 and Phd[i] == 1:\n",
    "        a = a + 1\n",
    "        \n",
    "print(\"Number of mens with PhD: \",a)"
   ]
  },
  {
   "cell_type": "code",
   "execution_count": 6,
   "id": "efba5163",
   "metadata": {},
   "outputs": [
    {
     "name": "stdout",
     "output_type": "stream",
     "text": [
      "Number of womans with PhD:  24\n"
     ]
    }
   ],
   "source": [
    "# Number of Woman with PhD\n",
    "a = 0\n",
    "for i in range(0,len(Gen)):\n",
    "    if Gen[i] == 1 and Phd[i] == 1:\n",
    "        a = a + 1\n",
    "        \n",
    "print(\"Number of womans with PhD: \",a)"
   ]
  },
  {
   "cell_type": "markdown",
   "id": "c659d268",
   "metadata": {},
   "source": [
    "### 3. Use SalaryGender CSV file. Store the “Age” and “PhD” columns in one DataFrame and delete the data of all people who don’t have a PhD"
   ]
  },
  {
   "cell_type": "code",
   "execution_count": 7,
   "id": "f7b34ac6",
   "metadata": {},
   "outputs": [],
   "source": [
    "df1 = df.copy()"
   ]
  },
  {
   "cell_type": "code",
   "execution_count": 8,
   "id": "3d048ade",
   "metadata": {},
   "outputs": [],
   "source": [
    "# Storing the \"Age\" and \"PhD\" columns in one DataFrame\n",
    "df1.drop(['Salary','Gender'], axis=1, inplace=True)"
   ]
  },
  {
   "cell_type": "code",
   "execution_count": 9,
   "id": "35eb787a",
   "metadata": {},
   "outputs": [
    {
     "name": "stdout",
     "output_type": "stream",
     "text": [
      "<class 'pandas.core.frame.DataFrame'>\n",
      "RangeIndex: 100 entries, 0 to 99\n",
      "Data columns (total 2 columns):\n",
      " #   Column  Non-Null Count  Dtype\n",
      "---  ------  --------------  -----\n",
      " 0   Age     100 non-null    int64\n",
      " 1   PhD     100 non-null    int64\n",
      "dtypes: int64(2)\n",
      "memory usage: 1.7 KB\n"
     ]
    }
   ],
   "source": [
    "df1.info()"
   ]
  },
  {
   "cell_type": "code",
   "execution_count": 10,
   "id": "cec8d838",
   "metadata": {},
   "outputs": [
    {
     "name": "stdout",
     "output_type": "stream",
     "text": [
      "<class 'pandas.core.frame.DataFrame'>\n",
      "Int64Index: 39 entries, 0 to 96\n",
      "Data columns (total 2 columns):\n",
      " #   Column  Non-Null Count  Dtype\n",
      "---  ------  --------------  -----\n",
      " 0   Age     39 non-null     int64\n",
      " 1   PhD     39 non-null     int64\n",
      "dtypes: int64(2)\n",
      "memory usage: 936.0 bytes\n"
     ]
    }
   ],
   "source": [
    "# Deleting all the data of all people who don't have a PhD\n",
    "df1 = df1[df1['PhD'] != 0] \n",
    "df1.info()"
   ]
  },
  {
   "cell_type": "markdown",
   "id": "6ee537be",
   "metadata": {},
   "source": [
    "### 4. Calculate the total number of people who have a PhD degree from SalaryGender CSV file."
   ]
  },
  {
   "cell_type": "code",
   "execution_count": 11,
   "id": "35dc8f18",
   "metadata": {},
   "outputs": [
    {
     "data": {
      "text/html": [
       "<div>\n",
       "<style scoped>\n",
       "    .dataframe tbody tr th:only-of-type {\n",
       "        vertical-align: middle;\n",
       "    }\n",
       "\n",
       "    .dataframe tbody tr th {\n",
       "        vertical-align: top;\n",
       "    }\n",
       "\n",
       "    .dataframe thead th {\n",
       "        text-align: right;\n",
       "    }\n",
       "</style>\n",
       "<table border=\"1\" class=\"dataframe\">\n",
       "  <thead>\n",
       "    <tr style=\"text-align: right;\">\n",
       "      <th></th>\n",
       "      <th>Salary</th>\n",
       "      <th>Gender</th>\n",
       "      <th>Age</th>\n",
       "      <th>PhD</th>\n",
       "    </tr>\n",
       "  </thead>\n",
       "  <tbody>\n",
       "    <tr>\n",
       "      <th>0</th>\n",
       "      <td>140.0</td>\n",
       "      <td>1</td>\n",
       "      <td>47</td>\n",
       "      <td>1</td>\n",
       "    </tr>\n",
       "    <tr>\n",
       "      <th>1</th>\n",
       "      <td>30.0</td>\n",
       "      <td>0</td>\n",
       "      <td>65</td>\n",
       "      <td>1</td>\n",
       "    </tr>\n",
       "    <tr>\n",
       "      <th>2</th>\n",
       "      <td>35.1</td>\n",
       "      <td>0</td>\n",
       "      <td>56</td>\n",
       "      <td>0</td>\n",
       "    </tr>\n",
       "    <tr>\n",
       "      <th>3</th>\n",
       "      <td>30.0</td>\n",
       "      <td>1</td>\n",
       "      <td>23</td>\n",
       "      <td>0</td>\n",
       "    </tr>\n",
       "    <tr>\n",
       "      <th>4</th>\n",
       "      <td>80.0</td>\n",
       "      <td>0</td>\n",
       "      <td>53</td>\n",
       "      <td>1</td>\n",
       "    </tr>\n",
       "  </tbody>\n",
       "</table>\n",
       "</div>"
      ],
      "text/plain": [
       "   Salary  Gender  Age  PhD\n",
       "0   140.0       1   47    1\n",
       "1    30.0       0   65    1\n",
       "2    35.1       0   56    0\n",
       "3    30.0       1   23    0\n",
       "4    80.0       0   53    1"
      ]
     },
     "execution_count": 11,
     "metadata": {},
     "output_type": "execute_result"
    }
   ],
   "source": [
    "df.head()"
   ]
  },
  {
   "cell_type": "code",
   "execution_count": 12,
   "id": "7b900b1b",
   "metadata": {},
   "outputs": [
    {
     "name": "stdout",
     "output_type": "stream",
     "text": [
      "Number of people having PhD degree: 39\n"
     ]
    }
   ],
   "source": [
    "# Number of people having PhD degree \n",
    "df1['PhD'].count()\n",
    "print(\"Number of people having PhD degree:\",df1['PhD'].count())"
   ]
  },
  {
   "cell_type": "markdown",
   "id": "70447a16",
   "metadata": {},
   "source": [
    "### 5. How do you Count The Number Of Times Each Value Appears In An Array Of Integers?\n",
    "\n",
    "[0, 5, 4, 0, 4, 4, 3, 0, 0, 5, 2, 1, 1, 9]\n",
    "\n",
    "Answer should be array([4, 2, 1, 1, 3, 2, 0, 0, 0, 1]) which means 0 comes 4 times, 1 comes 2 times, 2 comes 1 time, 3 comes 1 time and so on."
   ]
  },
  {
   "cell_type": "code",
   "execution_count": 13,
   "id": "1cbca280",
   "metadata": {},
   "outputs": [],
   "source": [
    "values, count = np.unique([0, 5, 4, 0, 4, 4, 3, 0, 0, 5, 2, 1, 1, 9], return_counts = True)"
   ]
  },
  {
   "cell_type": "code",
   "execution_count": 14,
   "id": "63782a9b",
   "metadata": {},
   "outputs": [
    {
     "name": "stdout",
     "output_type": "stream",
     "text": [
      "Input Array is = [0 1 2 3 4 5 9]\n",
      "The count of each numbers is = [4 2 1 1 3 2 1]\n"
     ]
    }
   ],
   "source": [
    "print(\"Input Array is =\",values)\n",
    "print(\"The count of each numbers is =\",count)"
   ]
  },
  {
   "cell_type": "markdown",
   "id": "7b76db86",
   "metadata": {},
   "source": [
    "### 6. Create a numpy array [[0, 1, 2], [ 3, 4, 5], [ 6, 7, 8],[ 9, 10, 11]]) and filter the elements greater than 5."
   ]
  },
  {
   "cell_type": "code",
   "execution_count": 15,
   "id": "ecc89b0c",
   "metadata": {},
   "outputs": [],
   "source": [
    "a = np.array([[0, 1, 2],[3, 4, 5],[6, 7, 8],[9, 10, 11]])"
   ]
  },
  {
   "cell_type": "code",
   "execution_count": 16,
   "id": "b5bc1dbf",
   "metadata": {},
   "outputs": [
    {
     "name": "stdout",
     "output_type": "stream",
     "text": [
      "[[ 0  1  2]\n",
      " [ 3  4  5]\n",
      " [ 6  7  8]\n",
      " [ 9 10 11]]\n"
     ]
    }
   ],
   "source": [
    "print(a)"
   ]
  },
  {
   "cell_type": "code",
   "execution_count": 17,
   "id": "a2853109",
   "metadata": {},
   "outputs": [
    {
     "name": "stdout",
     "output_type": "stream",
     "text": [
      "The elements greater than 5 are :  [6, 7, 8, 9, 10, 11]\n"
     ]
    }
   ],
   "source": [
    "new_array = []\n",
    "for b in range(len(a)):\n",
    "    for c in range(len(a[b])):\n",
    "        if a[b][c] > 5:\n",
    "            new_array.append(a[b][c])\n",
    "            \n",
    "print(\"The elements greater than 5 are : \",new_array)            "
   ]
  },
  {
   "cell_type": "markdown",
   "id": "d51f2f52",
   "metadata": {},
   "source": [
    "### 7. Create a numpy array having NaN (Not a Number) and print it.\n",
    "array([ nan, 1., 2., nan, 3., 4., 5.])\n",
    "Print the same array omitting all elements which are nan"
   ]
  },
  {
   "cell_type": "code",
   "execution_count": 18,
   "id": "30884e50",
   "metadata": {},
   "outputs": [],
   "source": [
    "a = np.array([np.nan,1,2,np.nan,3, 4, 5])"
   ]
  },
  {
   "cell_type": "code",
   "execution_count": 19,
   "id": "9e0b8152",
   "metadata": {},
   "outputs": [
    {
     "name": "stdout",
     "output_type": "stream",
     "text": [
      "[nan  1.  2. nan  3.  4.  5.]\n"
     ]
    }
   ],
   "source": [
    "print(a)"
   ]
  },
  {
   "cell_type": "code",
   "execution_count": 20,
   "id": "6e7e18c6",
   "metadata": {},
   "outputs": [
    {
     "name": "stdout",
     "output_type": "stream",
     "text": [
      "The array after removal of nan : [1. 2. 3. 4. 5.]\n"
     ]
    }
   ],
   "source": [
    "b = a[~np.isnan(a)]\n",
    "        \n",
    "print(\"The array after removal of nan :\", b)"
   ]
  },
  {
   "cell_type": "markdown",
   "id": "5c43af41",
   "metadata": {},
   "source": [
    "### 8. Create a 10x10 array with random values and find the minimum and maximum values."
   ]
  },
  {
   "cell_type": "code",
   "execution_count": 21,
   "id": "4a0a24ed",
   "metadata": {},
   "outputs": [],
   "source": [
    "import random\n",
    "a = np.random.random((10,10))"
   ]
  },
  {
   "cell_type": "code",
   "execution_count": 22,
   "id": "fb28b6e0",
   "metadata": {},
   "outputs": [
    {
     "name": "stdout",
     "output_type": "stream",
     "text": [
      "The original Array is:  [[0.73314441 0.71826367 0.94157146 0.0874156  0.92325184 0.97262949\n",
      "  0.57652289 0.44986597 0.82183888 0.59517699]\n",
      " [0.43093508 0.39081528 0.64591135 0.49441125 0.13338962 0.4596993\n",
      "  0.99950455 0.47732761 0.88574715 0.41079518]\n",
      " [0.32818574 0.22855387 0.02061684 0.64308824 0.43332996 0.50370714\n",
      "  0.41572233 0.10046992 0.56918397 0.56605324]\n",
      " [0.79884606 0.03235539 0.57798704 0.59881709 0.8978117  0.85159114\n",
      "  0.13712686 0.38594121 0.82050095 0.17221577]\n",
      " [0.07001701 0.04820416 0.88449291 0.59642123 0.96941633 0.45421539\n",
      "  0.86074823 0.72773887 0.8668361  0.7700738 ]\n",
      " [0.73788152 0.57368688 0.63622649 0.4785258  0.28135645 0.52558881\n",
      "  0.78049515 0.52677904 0.3806502  0.27503933]\n",
      " [0.07785246 0.1323245  0.31541064 0.65236375 0.59756224 0.60891828\n",
      "  0.20043365 0.2565787  0.81770308 0.80461719]\n",
      " [0.4032513  0.08561739 0.87308508 0.07306461 0.90836413 0.32984028\n",
      "  0.6207557  0.4479389  0.42578014 0.9224354 ]\n",
      " [0.94102239 0.94121995 0.34796361 0.84702329 0.14299004 0.66593231\n",
      "  0.11250008 0.41158511 0.06366693 0.11409661]\n",
      " [0.77434101 0.70361589 0.55787093 0.0527677  0.84021439 0.65103826\n",
      "  0.7972521  0.99845309 0.21922219 0.24454777]]\n",
      "***************------------>**********\n",
      "The minimum value is : 0.020616836643891023  & the maximum value is : 0.9995045471400026\n"
     ]
    }
   ],
   "source": [
    "print('The original Array is: ',a)\n",
    "a_min = a.min()\n",
    "a_max = a.max()\n",
    "print('***************------------>**********')\n",
    "print('The minimum value is :',a_min,' & the maximum value is :',a_max)"
   ]
  },
  {
   "cell_type": "markdown",
   "id": "ce84bd22",
   "metadata": {},
   "source": [
    "### 9. Create a random vector of size 30 and find the mean value."
   ]
  },
  {
   "cell_type": "code",
   "execution_count": 23,
   "id": "9b05dca0",
   "metadata": {},
   "outputs": [],
   "source": [
    "a = np.random.random((30))"
   ]
  },
  {
   "cell_type": "code",
   "execution_count": 24,
   "id": "3d507b4b",
   "metadata": {},
   "outputs": [
    {
     "name": "stdout",
     "output_type": "stream",
     "text": [
      "The random vector of 30 is : [0.64018925 0.60855797 0.52327765 0.20599426 0.21313987 0.38979378\n",
      " 0.57809144 0.9217462  0.74587964 0.54176447 0.9737314  0.0717766\n",
      " 0.7173474  0.96852065 0.30700766 0.83244754 0.38060744 0.80984761\n",
      " 0.6236243  0.79769527 0.63514489 0.91691444 0.65308738 0.63554238\n",
      " 0.89074585 0.49245845 0.476395   0.76029513 0.42051031 0.27885718]\n",
      "******************* ---------> *******************\n",
      "The mean value of the vector is:  0.6003663811052581\n"
     ]
    }
   ],
   "source": [
    "print(\"The random vector of 30 is :\",a)\n",
    "print(\"******************* ---------> *******************\")\n",
    "print(\"The mean value of the vector is: \",a.mean())"
   ]
  },
  {
   "cell_type": "markdown",
   "id": "e55d54ea",
   "metadata": {},
   "source": [
    "### 10. Create numpy array having elements 0 to 10 And negate all the elements between 3 and 9"
   ]
  },
  {
   "cell_type": "code",
   "execution_count": 25,
   "id": "7de80623",
   "metadata": {},
   "outputs": [],
   "source": [
    "array = np.arange(11)"
   ]
  },
  {
   "cell_type": "code",
   "execution_count": 26,
   "id": "21bd189d",
   "metadata": {},
   "outputs": [
    {
     "name": "stdout",
     "output_type": "stream",
     "text": [
      "The original array is : [ 0  1  2  3  4  5  6  7  8  9 10]\n",
      "The array after the negation between 3 and 9 is : [ 0  1  2 -3 -4 -5 -6 -7 -8 -9 10]\n"
     ]
    }
   ],
   "source": [
    "print(\"The original array is :\",array)\n",
    "array[3:10] = np.multiply(array[3:10],-1)\n",
    "print(\"The array after the negation between 3 and 9 is :\",array)"
   ]
  },
  {
   "cell_type": "markdown",
   "id": "0592d6c7",
   "metadata": {},
   "source": [
    "### 11. Create a random array of 3 rows and 3 columns and sort it according to 1st column, 2nd column or 3rd column."
   ]
  },
  {
   "cell_type": "code",
   "execution_count": 27,
   "id": "fd8e429d",
   "metadata": {},
   "outputs": [
    {
     "name": "stdout",
     "output_type": "stream",
     "text": [
      "The original array of size 3x3 is : \n",
      " [[4 3 5]\n",
      " [1 7 8]\n",
      " [7 2 1]]\n"
     ]
    }
   ],
   "source": [
    "arr = np.array([[4,3,5],[1,7,8],[7,2,1]])\n",
    "print(\"The original array of size 3x3 is : \\n\",arr)"
   ]
  },
  {
   "cell_type": "code",
   "execution_count": 28,
   "id": "f4ea5e76",
   "metadata": {},
   "outputs": [
    {
     "name": "stdout",
     "output_type": "stream",
     "text": [
      "The array after sorting according to columns is : \n",
      " [[1 2 1]\n",
      " [4 3 5]\n",
      " [7 7 8]]\n"
     ]
    }
   ],
   "source": [
    "print(\"The array after sorting according to columns is : \\n\",np.sort(arr, axis=0)) "
   ]
  },
  {
   "cell_type": "markdown",
   "id": "d64a2346",
   "metadata": {},
   "source": [
    "### 12. Create a four dimensions array get sum over the last two axis at once."
   ]
  },
  {
   "cell_type": "code",
   "execution_count": 29,
   "id": "ad49f316",
   "metadata": {},
   "outputs": [
    {
     "name": "stdout",
     "output_type": "stream",
     "text": [
      "The four D matrix is : \n",
      " [[[3 6 2 7]\n",
      "  [2 7 6 6]\n",
      "  [3 6 3 4]\n",
      "  [8 3 3 9]]\n",
      "\n",
      " [[7 5 9 5]\n",
      "  [9 3 1 9]\n",
      "  [6 9 5 6]\n",
      "  [8 2 9 0]]\n",
      "\n",
      " [[0 3 6 8]\n",
      "  [7 9 6 4]\n",
      "  [7 0 3 7]\n",
      "  [6 7 5 1]]\n",
      "\n",
      " [[3 5 9 1]\n",
      "  [9 2 2 7]\n",
      "  [1 6 5 6]\n",
      "  [6 9 8 6]]]\n"
     ]
    }
   ],
   "source": [
    "four_D = np.random.randint(10, size=(4, 4, 4))\n",
    "print(\"The four D matrix is : \\n\",four_D)"
   ]
  },
  {
   "cell_type": "code",
   "execution_count": 30,
   "id": "3138c750",
   "metadata": {},
   "outputs": [
    {
     "name": "stdout",
     "output_type": "stream",
     "text": [
      "sum over the last two axis at once: \n",
      " [78 93 79 85]\n"
     ]
    }
   ],
   "source": [
    "arr_sum = four_D.sum(axis=(-2,-1))\n",
    "print(\"sum over the last two axis at once: \\n\",arr_sum)"
   ]
  },
  {
   "cell_type": "markdown",
   "id": "04750fcc",
   "metadata": {},
   "source": [
    "### 13. Create a random array and swap two rows of an array."
   ]
  },
  {
   "cell_type": "code",
   "execution_count": 31,
   "id": "1d1afcfb",
   "metadata": {},
   "outputs": [
    {
     "name": "stdout",
     "output_type": "stream",
     "text": [
      "The original array is : \n",
      " [[19 11  7 14]\n",
      " [11 17  6  8]\n",
      " [17  7 11 17]\n",
      " [10  3 17  7]]\n",
      "The array after swaping of first and second row is : \n",
      " [[11 17  6  8]\n",
      " [19 11  7 14]\n",
      " [17  7 11 17]\n",
      " [10  3 17  7]]\n"
     ]
    }
   ],
   "source": [
    "A = np.array([[19, 11,  7, 14],[11, 17,  6,  8],[17,  7, 11, 17],[10,  3, 17,  7]])\n",
    "print(\"The original array is : \\n\",A)\n",
    "A[[0,1]]=A[[1,0]]\n",
    "print(\"The array after swaping of first and second row is : \\n\",A)"
   ]
  },
  {
   "cell_type": "markdown",
   "id": "7a85d8ff",
   "metadata": {},
   "source": [
    "### 14. Create a random matrix and Compute a matrix rank."
   ]
  },
  {
   "cell_type": "code",
   "execution_count": 32,
   "id": "6fb866b3",
   "metadata": {},
   "outputs": [
    {
     "name": "stdout",
     "output_type": "stream",
     "text": [
      "The given matrix of 3x3 is : \n",
      " [[3 8 2]\n",
      " [3 2 5]\n",
      " [9 5 8]]\n"
     ]
    }
   ],
   "source": [
    "A = np.random.randint(10, size=(3, 3))\n",
    "print(\"The given matrix of 3x3 is : \\n\",A)"
   ]
  },
  {
   "cell_type": "code",
   "execution_count": 33,
   "id": "9f2e715a",
   "metadata": {},
   "outputs": [
    {
     "name": "stdout",
     "output_type": "stream",
     "text": [
      "The given matrix rank is : \n",
      " 3\n"
     ]
    }
   ],
   "source": [
    "B = np.linalg.matrix_rank(A)\n",
    "print(\"The given matrix rank is : \\n\",B)"
   ]
  },
  {
   "cell_type": "markdown",
   "id": "6a607e62",
   "metadata": {},
   "source": [
    "### 15. Solution \n",
    "#### Phase 1 - Data Collection"
   ]
  },
  {
   "cell_type": "code",
   "execution_count": 34,
   "id": "bcaf79d5",
   "metadata": {},
   "outputs": [
    {
     "data": {
      "text/html": [
       "<div>\n",
       "<style scoped>\n",
       "    .dataframe tbody tr th:only-of-type {\n",
       "        vertical-align: middle;\n",
       "    }\n",
       "\n",
       "    .dataframe tbody tr th {\n",
       "        vertical-align: top;\n",
       "    }\n",
       "\n",
       "    .dataframe thead th {\n",
       "        text-align: right;\n",
       "    }\n",
       "</style>\n",
       "<table border=\"1\" class=\"dataframe\">\n",
       "  <thead>\n",
       "    <tr style=\"text-align: right;\">\n",
       "      <th></th>\n",
       "      <th>name</th>\n",
       "      <th>school_rating</th>\n",
       "      <th>size</th>\n",
       "      <th>reduced_lunch</th>\n",
       "      <th>state_percentile_16</th>\n",
       "      <th>state_percentile_15</th>\n",
       "      <th>stu_teach_ratio</th>\n",
       "      <th>school_type</th>\n",
       "      <th>avg_score_15</th>\n",
       "      <th>avg_score_16</th>\n",
       "      <th>full_time_teachers</th>\n",
       "      <th>percent_black</th>\n",
       "      <th>percent_white</th>\n",
       "      <th>percent_asian</th>\n",
       "      <th>percent_hispanic</th>\n",
       "    </tr>\n",
       "  </thead>\n",
       "  <tbody>\n",
       "    <tr>\n",
       "      <th>0</th>\n",
       "      <td>Allendale Elementary School</td>\n",
       "      <td>5.0</td>\n",
       "      <td>851.0</td>\n",
       "      <td>10.0</td>\n",
       "      <td>90.2</td>\n",
       "      <td>95.8</td>\n",
       "      <td>15.7</td>\n",
       "      <td>Public</td>\n",
       "      <td>89.4</td>\n",
       "      <td>85.2</td>\n",
       "      <td>54.0</td>\n",
       "      <td>2.9</td>\n",
       "      <td>85.5</td>\n",
       "      <td>1.6</td>\n",
       "      <td>5.6</td>\n",
       "    </tr>\n",
       "    <tr>\n",
       "      <th>1</th>\n",
       "      <td>Anderson Elementary</td>\n",
       "      <td>2.0</td>\n",
       "      <td>412.0</td>\n",
       "      <td>71.0</td>\n",
       "      <td>32.8</td>\n",
       "      <td>37.3</td>\n",
       "      <td>12.8</td>\n",
       "      <td>Public</td>\n",
       "      <td>43.0</td>\n",
       "      <td>38.3</td>\n",
       "      <td>32.0</td>\n",
       "      <td>3.9</td>\n",
       "      <td>86.7</td>\n",
       "      <td>1.0</td>\n",
       "      <td>4.9</td>\n",
       "    </tr>\n",
       "    <tr>\n",
       "      <th>2</th>\n",
       "      <td>Avoca Elementary</td>\n",
       "      <td>4.0</td>\n",
       "      <td>482.0</td>\n",
       "      <td>43.0</td>\n",
       "      <td>78.4</td>\n",
       "      <td>83.6</td>\n",
       "      <td>16.6</td>\n",
       "      <td>Public</td>\n",
       "      <td>75.7</td>\n",
       "      <td>73.0</td>\n",
       "      <td>29.0</td>\n",
       "      <td>1.0</td>\n",
       "      <td>91.5</td>\n",
       "      <td>1.2</td>\n",
       "      <td>4.4</td>\n",
       "    </tr>\n",
       "    <tr>\n",
       "      <th>3</th>\n",
       "      <td>Bailey Middle</td>\n",
       "      <td>0.0</td>\n",
       "      <td>394.0</td>\n",
       "      <td>91.0</td>\n",
       "      <td>1.6</td>\n",
       "      <td>1.0</td>\n",
       "      <td>13.1</td>\n",
       "      <td>Public Magnet</td>\n",
       "      <td>2.1</td>\n",
       "      <td>4.4</td>\n",
       "      <td>30.0</td>\n",
       "      <td>80.7</td>\n",
       "      <td>11.7</td>\n",
       "      <td>2.3</td>\n",
       "      <td>4.3</td>\n",
       "    </tr>\n",
       "    <tr>\n",
       "      <th>4</th>\n",
       "      <td>Barfield Elementary</td>\n",
       "      <td>4.0</td>\n",
       "      <td>948.0</td>\n",
       "      <td>26.0</td>\n",
       "      <td>85.3</td>\n",
       "      <td>89.2</td>\n",
       "      <td>14.8</td>\n",
       "      <td>Public</td>\n",
       "      <td>81.3</td>\n",
       "      <td>79.6</td>\n",
       "      <td>64.0</td>\n",
       "      <td>11.8</td>\n",
       "      <td>71.2</td>\n",
       "      <td>7.1</td>\n",
       "      <td>6.0</td>\n",
       "    </tr>\n",
       "  </tbody>\n",
       "</table>\n",
       "</div>"
      ],
      "text/plain": [
       "                          name  school_rating   size  reduced_lunch  \\\n",
       "0  Allendale Elementary School            5.0  851.0           10.0   \n",
       "1          Anderson Elementary            2.0  412.0           71.0   \n",
       "2             Avoca Elementary            4.0  482.0           43.0   \n",
       "3                Bailey Middle            0.0  394.0           91.0   \n",
       "4          Barfield Elementary            4.0  948.0           26.0   \n",
       "\n",
       "   state_percentile_16  state_percentile_15  stu_teach_ratio    school_type  \\\n",
       "0                 90.2                 95.8             15.7         Public   \n",
       "1                 32.8                 37.3             12.8         Public   \n",
       "2                 78.4                 83.6             16.6         Public   \n",
       "3                  1.6                  1.0             13.1  Public Magnet   \n",
       "4                 85.3                 89.2             14.8         Public   \n",
       "\n",
       "   avg_score_15  avg_score_16  full_time_teachers  percent_black  \\\n",
       "0          89.4          85.2                54.0            2.9   \n",
       "1          43.0          38.3                32.0            3.9   \n",
       "2          75.7          73.0                29.0            1.0   \n",
       "3           2.1           4.4                30.0           80.7   \n",
       "4          81.3          79.6                64.0           11.8   \n",
       "\n",
       "   percent_white  percent_asian  percent_hispanic  \n",
       "0           85.5            1.6               5.6  \n",
       "1           86.7            1.0               4.9  \n",
       "2           91.5            1.2               4.4  \n",
       "3           11.7            2.3               4.3  \n",
       "4           71.2            7.1               6.0  "
      ]
     },
     "execution_count": 34,
     "metadata": {},
     "output_type": "execute_result"
    }
   ],
   "source": [
    "# Read the data in pandas data frame\n",
    "df = pd.read_csv('middle_tn_schools.csv')\n",
    "df.head()"
   ]
  },
  {
   "cell_type": "code",
   "execution_count": 35,
   "id": "932f1863",
   "metadata": {},
   "outputs": [
    {
     "name": "stdout",
     "output_type": "stream",
     "text": [
      "<class 'pandas.core.frame.DataFrame'>\n",
      "RangeIndex: 347 entries, 0 to 346\n",
      "Data columns (total 15 columns):\n",
      " #   Column               Non-Null Count  Dtype  \n",
      "---  ------               --------------  -----  \n",
      " 0   name                 347 non-null    object \n",
      " 1   school_rating        347 non-null    float64\n",
      " 2   size                 347 non-null    float64\n",
      " 3   reduced_lunch        347 non-null    float64\n",
      " 4   state_percentile_16  347 non-null    float64\n",
      " 5   state_percentile_15  341 non-null    float64\n",
      " 6   stu_teach_ratio      347 non-null    float64\n",
      " 7   school_type          347 non-null    object \n",
      " 8   avg_score_15         341 non-null    float64\n",
      " 9   avg_score_16         347 non-null    float64\n",
      " 10  full_time_teachers   347 non-null    float64\n",
      " 11  percent_black        347 non-null    float64\n",
      " 12  percent_white        347 non-null    float64\n",
      " 13  percent_asian        347 non-null    float64\n",
      " 14  percent_hispanic     347 non-null    float64\n",
      "dtypes: float64(13), object(2)\n",
      "memory usage: 40.8+ KB\n"
     ]
    }
   ],
   "source": [
    "df.info()"
   ]
  },
  {
   "cell_type": "code",
   "execution_count": 36,
   "id": "8a6c1663",
   "metadata": {},
   "outputs": [
    {
     "data": {
      "text/html": [
       "<div>\n",
       "<style scoped>\n",
       "    .dataframe tbody tr th:only-of-type {\n",
       "        vertical-align: middle;\n",
       "    }\n",
       "\n",
       "    .dataframe tbody tr th {\n",
       "        vertical-align: top;\n",
       "    }\n",
       "\n",
       "    .dataframe thead th {\n",
       "        text-align: right;\n",
       "    }\n",
       "</style>\n",
       "<table border=\"1\" class=\"dataframe\">\n",
       "  <thead>\n",
       "    <tr style=\"text-align: right;\">\n",
       "      <th></th>\n",
       "      <th>school_rating</th>\n",
       "      <th>size</th>\n",
       "      <th>reduced_lunch</th>\n",
       "      <th>state_percentile_16</th>\n",
       "      <th>state_percentile_15</th>\n",
       "      <th>stu_teach_ratio</th>\n",
       "      <th>avg_score_15</th>\n",
       "      <th>avg_score_16</th>\n",
       "      <th>full_time_teachers</th>\n",
       "      <th>percent_black</th>\n",
       "      <th>percent_white</th>\n",
       "      <th>percent_asian</th>\n",
       "      <th>percent_hispanic</th>\n",
       "    </tr>\n",
       "  </thead>\n",
       "  <tbody>\n",
       "    <tr>\n",
       "      <th>count</th>\n",
       "      <td>347.000000</td>\n",
       "      <td>347.000000</td>\n",
       "      <td>347.000000</td>\n",
       "      <td>347.000000</td>\n",
       "      <td>341.000000</td>\n",
       "      <td>347.000000</td>\n",
       "      <td>341.000000</td>\n",
       "      <td>347.000000</td>\n",
       "      <td>347.000000</td>\n",
       "      <td>347.000000</td>\n",
       "      <td>347.000000</td>\n",
       "      <td>347.000000</td>\n",
       "      <td>347.000000</td>\n",
       "    </tr>\n",
       "    <tr>\n",
       "      <th>mean</th>\n",
       "      <td>2.968300</td>\n",
       "      <td>699.472622</td>\n",
       "      <td>50.279539</td>\n",
       "      <td>58.801729</td>\n",
       "      <td>58.249267</td>\n",
       "      <td>15.461671</td>\n",
       "      <td>57.004692</td>\n",
       "      <td>57.049856</td>\n",
       "      <td>44.939481</td>\n",
       "      <td>21.197983</td>\n",
       "      <td>61.673487</td>\n",
       "      <td>2.642651</td>\n",
       "      <td>11.164553</td>\n",
       "    </tr>\n",
       "    <tr>\n",
       "      <th>std</th>\n",
       "      <td>1.690377</td>\n",
       "      <td>400.598636</td>\n",
       "      <td>25.480236</td>\n",
       "      <td>32.540747</td>\n",
       "      <td>32.702630</td>\n",
       "      <td>5.725170</td>\n",
       "      <td>26.696450</td>\n",
       "      <td>27.968974</td>\n",
       "      <td>22.053386</td>\n",
       "      <td>23.562538</td>\n",
       "      <td>27.274859</td>\n",
       "      <td>3.109629</td>\n",
       "      <td>12.030608</td>\n",
       "    </tr>\n",
       "    <tr>\n",
       "      <th>min</th>\n",
       "      <td>0.000000</td>\n",
       "      <td>53.000000</td>\n",
       "      <td>2.000000</td>\n",
       "      <td>0.200000</td>\n",
       "      <td>0.600000</td>\n",
       "      <td>4.700000</td>\n",
       "      <td>1.500000</td>\n",
       "      <td>0.100000</td>\n",
       "      <td>2.000000</td>\n",
       "      <td>0.000000</td>\n",
       "      <td>1.100000</td>\n",
       "      <td>0.000000</td>\n",
       "      <td>0.000000</td>\n",
       "    </tr>\n",
       "    <tr>\n",
       "      <th>25%</th>\n",
       "      <td>2.000000</td>\n",
       "      <td>420.500000</td>\n",
       "      <td>30.000000</td>\n",
       "      <td>30.950000</td>\n",
       "      <td>27.100000</td>\n",
       "      <td>13.700000</td>\n",
       "      <td>37.600000</td>\n",
       "      <td>37.000000</td>\n",
       "      <td>30.000000</td>\n",
       "      <td>3.600000</td>\n",
       "      <td>40.600000</td>\n",
       "      <td>0.750000</td>\n",
       "      <td>3.800000</td>\n",
       "    </tr>\n",
       "    <tr>\n",
       "      <th>50%</th>\n",
       "      <td>3.000000</td>\n",
       "      <td>595.000000</td>\n",
       "      <td>51.000000</td>\n",
       "      <td>66.400000</td>\n",
       "      <td>65.800000</td>\n",
       "      <td>15.000000</td>\n",
       "      <td>61.800000</td>\n",
       "      <td>60.700000</td>\n",
       "      <td>40.000000</td>\n",
       "      <td>13.500000</td>\n",
       "      <td>68.700000</td>\n",
       "      <td>1.600000</td>\n",
       "      <td>6.400000</td>\n",
       "    </tr>\n",
       "    <tr>\n",
       "      <th>75%</th>\n",
       "      <td>4.000000</td>\n",
       "      <td>851.000000</td>\n",
       "      <td>71.500000</td>\n",
       "      <td>88.000000</td>\n",
       "      <td>88.600000</td>\n",
       "      <td>16.700000</td>\n",
       "      <td>79.600000</td>\n",
       "      <td>80.250000</td>\n",
       "      <td>54.000000</td>\n",
       "      <td>28.350000</td>\n",
       "      <td>85.950000</td>\n",
       "      <td>3.100000</td>\n",
       "      <td>13.800000</td>\n",
       "    </tr>\n",
       "    <tr>\n",
       "      <th>max</th>\n",
       "      <td>5.000000</td>\n",
       "      <td>2314.000000</td>\n",
       "      <td>98.000000</td>\n",
       "      <td>99.800000</td>\n",
       "      <td>99.800000</td>\n",
       "      <td>111.000000</td>\n",
       "      <td>99.000000</td>\n",
       "      <td>98.900000</td>\n",
       "      <td>140.000000</td>\n",
       "      <td>97.400000</td>\n",
       "      <td>99.700000</td>\n",
       "      <td>21.100000</td>\n",
       "      <td>65.200000</td>\n",
       "    </tr>\n",
       "  </tbody>\n",
       "</table>\n",
       "</div>"
      ],
      "text/plain": [
       "       school_rating         size  reduced_lunch  state_percentile_16  \\\n",
       "count     347.000000   347.000000     347.000000           347.000000   \n",
       "mean        2.968300   699.472622      50.279539            58.801729   \n",
       "std         1.690377   400.598636      25.480236            32.540747   \n",
       "min         0.000000    53.000000       2.000000             0.200000   \n",
       "25%         2.000000   420.500000      30.000000            30.950000   \n",
       "50%         3.000000   595.000000      51.000000            66.400000   \n",
       "75%         4.000000   851.000000      71.500000            88.000000   \n",
       "max         5.000000  2314.000000      98.000000            99.800000   \n",
       "\n",
       "       state_percentile_15  stu_teach_ratio  avg_score_15  avg_score_16  \\\n",
       "count           341.000000       347.000000    341.000000    347.000000   \n",
       "mean             58.249267        15.461671     57.004692     57.049856   \n",
       "std              32.702630         5.725170     26.696450     27.968974   \n",
       "min               0.600000         4.700000      1.500000      0.100000   \n",
       "25%              27.100000        13.700000     37.600000     37.000000   \n",
       "50%              65.800000        15.000000     61.800000     60.700000   \n",
       "75%              88.600000        16.700000     79.600000     80.250000   \n",
       "max              99.800000       111.000000     99.000000     98.900000   \n",
       "\n",
       "       full_time_teachers  percent_black  percent_white  percent_asian  \\\n",
       "count          347.000000     347.000000     347.000000     347.000000   \n",
       "mean            44.939481      21.197983      61.673487       2.642651   \n",
       "std             22.053386      23.562538      27.274859       3.109629   \n",
       "min              2.000000       0.000000       1.100000       0.000000   \n",
       "25%             30.000000       3.600000      40.600000       0.750000   \n",
       "50%             40.000000      13.500000      68.700000       1.600000   \n",
       "75%             54.000000      28.350000      85.950000       3.100000   \n",
       "max            140.000000      97.400000      99.700000      21.100000   \n",
       "\n",
       "       percent_hispanic  \n",
       "count        347.000000  \n",
       "mean          11.164553  \n",
       "std           12.030608  \n",
       "min            0.000000  \n",
       "25%            3.800000  \n",
       "50%            6.400000  \n",
       "75%           13.800000  \n",
       "max           65.200000  "
      ]
     },
     "execution_count": 36,
     "metadata": {},
     "output_type": "execute_result"
    }
   ],
   "source": [
    "# Describe the data to find more details\n",
    "df.describe()"
   ]
  },
  {
   "cell_type": "markdown",
   "id": "33990262",
   "metadata": {},
   "source": [
    "#### Phase 2 - Group data by school ratings"
   ]
  },
  {
   "cell_type": "code",
   "execution_count": 37,
   "id": "9e43f569",
   "metadata": {},
   "outputs": [],
   "source": [
    "red_lunch = df['reduced_lunch']"
   ]
  },
  {
   "cell_type": "code",
   "execution_count": 38,
   "id": "a4f944bf",
   "metadata": {},
   "outputs": [],
   "source": [
    "# df.drop(['reduced_lunch'], axis=1, inplace=True)"
   ]
  },
  {
   "cell_type": "code",
   "execution_count": 39,
   "id": "f57325f1",
   "metadata": {},
   "outputs": [],
   "source": [
    "df_group = df.groupby('school_rating').describe()"
   ]
  },
  {
   "cell_type": "code",
   "execution_count": 40,
   "id": "bda9f73c",
   "metadata": {},
   "outputs": [
    {
     "data": {
      "text/html": [
       "<div>\n",
       "<style scoped>\n",
       "    .dataframe tbody tr th:only-of-type {\n",
       "        vertical-align: middle;\n",
       "    }\n",
       "\n",
       "    .dataframe tbody tr th {\n",
       "        vertical-align: top;\n",
       "    }\n",
       "\n",
       "    .dataframe thead tr th {\n",
       "        text-align: left;\n",
       "    }\n",
       "\n",
       "    .dataframe thead tr:last-of-type th {\n",
       "        text-align: right;\n",
       "    }\n",
       "</style>\n",
       "<table border=\"1\" class=\"dataframe\">\n",
       "  <thead>\n",
       "    <tr>\n",
       "      <th></th>\n",
       "      <th colspan=\"8\" halign=\"left\">size</th>\n",
       "      <th colspan=\"2\" halign=\"left\">reduced_lunch</th>\n",
       "      <th>...</th>\n",
       "      <th colspan=\"2\" halign=\"left\">percent_asian</th>\n",
       "      <th colspan=\"8\" halign=\"left\">percent_hispanic</th>\n",
       "    </tr>\n",
       "    <tr>\n",
       "      <th></th>\n",
       "      <th>count</th>\n",
       "      <th>mean</th>\n",
       "      <th>std</th>\n",
       "      <th>min</th>\n",
       "      <th>25%</th>\n",
       "      <th>50%</th>\n",
       "      <th>75%</th>\n",
       "      <th>max</th>\n",
       "      <th>count</th>\n",
       "      <th>mean</th>\n",
       "      <th>...</th>\n",
       "      <th>75%</th>\n",
       "      <th>max</th>\n",
       "      <th>count</th>\n",
       "      <th>mean</th>\n",
       "      <th>std</th>\n",
       "      <th>min</th>\n",
       "      <th>25%</th>\n",
       "      <th>50%</th>\n",
       "      <th>75%</th>\n",
       "      <th>max</th>\n",
       "    </tr>\n",
       "    <tr>\n",
       "      <th>school_rating</th>\n",
       "      <th></th>\n",
       "      <th></th>\n",
       "      <th></th>\n",
       "      <th></th>\n",
       "      <th></th>\n",
       "      <th></th>\n",
       "      <th></th>\n",
       "      <th></th>\n",
       "      <th></th>\n",
       "      <th></th>\n",
       "      <th></th>\n",
       "      <th></th>\n",
       "      <th></th>\n",
       "      <th></th>\n",
       "      <th></th>\n",
       "      <th></th>\n",
       "      <th></th>\n",
       "      <th></th>\n",
       "      <th></th>\n",
       "      <th></th>\n",
       "      <th></th>\n",
       "    </tr>\n",
       "  </thead>\n",
       "  <tbody>\n",
       "    <tr>\n",
       "      <th>0.0</th>\n",
       "      <td>43.0</td>\n",
       "      <td>501.325581</td>\n",
       "      <td>217.273880</td>\n",
       "      <td>71.0</td>\n",
       "      <td>367.00</td>\n",
       "      <td>426.0</td>\n",
       "      <td>563.00</td>\n",
       "      <td>1002.0</td>\n",
       "      <td>43.0</td>\n",
       "      <td>83.581395</td>\n",
       "      <td>...</td>\n",
       "      <td>1.900</td>\n",
       "      <td>17.0</td>\n",
       "      <td>43.0</td>\n",
       "      <td>17.348837</td>\n",
       "      <td>19.811785</td>\n",
       "      <td>0.7</td>\n",
       "      <td>2.700</td>\n",
       "      <td>7.70</td>\n",
       "      <td>21.750</td>\n",
       "      <td>64.8</td>\n",
       "    </tr>\n",
       "    <tr>\n",
       "      <th>1.0</th>\n",
       "      <td>40.0</td>\n",
       "      <td>691.250000</td>\n",
       "      <td>476.695395</td>\n",
       "      <td>118.0</td>\n",
       "      <td>409.50</td>\n",
       "      <td>507.5</td>\n",
       "      <td>759.75</td>\n",
       "      <td>2314.0</td>\n",
       "      <td>40.0</td>\n",
       "      <td>74.950000</td>\n",
       "      <td>...</td>\n",
       "      <td>2.900</td>\n",
       "      <td>19.5</td>\n",
       "      <td>40.0</td>\n",
       "      <td>20.655000</td>\n",
       "      <td>15.259481</td>\n",
       "      <td>0.0</td>\n",
       "      <td>9.100</td>\n",
       "      <td>17.90</td>\n",
       "      <td>30.300</td>\n",
       "      <td>61.2</td>\n",
       "    </tr>\n",
       "    <tr>\n",
       "      <th>2.0</th>\n",
       "      <td>44.0</td>\n",
       "      <td>628.500000</td>\n",
       "      <td>349.591755</td>\n",
       "      <td>53.0</td>\n",
       "      <td>368.25</td>\n",
       "      <td>558.0</td>\n",
       "      <td>752.75</td>\n",
       "      <td>1771.0</td>\n",
       "      <td>44.0</td>\n",
       "      <td>64.272727</td>\n",
       "      <td>...</td>\n",
       "      <td>1.975</td>\n",
       "      <td>11.0</td>\n",
       "      <td>44.0</td>\n",
       "      <td>12.552273</td>\n",
       "      <td>9.995499</td>\n",
       "      <td>0.9</td>\n",
       "      <td>4.625</td>\n",
       "      <td>9.95</td>\n",
       "      <td>18.525</td>\n",
       "      <td>36.0</td>\n",
       "    </tr>\n",
       "    <tr>\n",
       "      <th>3.0</th>\n",
       "      <td>56.0</td>\n",
       "      <td>762.482143</td>\n",
       "      <td>399.760564</td>\n",
       "      <td>249.0</td>\n",
       "      <td>491.00</td>\n",
       "      <td>652.5</td>\n",
       "      <td>880.50</td>\n",
       "      <td>1983.0</td>\n",
       "      <td>56.0</td>\n",
       "      <td>50.285714</td>\n",
       "      <td>...</td>\n",
       "      <td>2.625</td>\n",
       "      <td>11.8</td>\n",
       "      <td>56.0</td>\n",
       "      <td>10.232143</td>\n",
       "      <td>9.373698</td>\n",
       "      <td>0.0</td>\n",
       "      <td>4.625</td>\n",
       "      <td>9.05</td>\n",
       "      <td>12.925</td>\n",
       "      <td>65.2</td>\n",
       "    </tr>\n",
       "    <tr>\n",
       "      <th>4.0</th>\n",
       "      <td>86.0</td>\n",
       "      <td>742.732558</td>\n",
       "      <td>403.389242</td>\n",
       "      <td>141.0</td>\n",
       "      <td>452.50</td>\n",
       "      <td>641.5</td>\n",
       "      <td>934.75</td>\n",
       "      <td>2025.0</td>\n",
       "      <td>86.0</td>\n",
       "      <td>41.000000</td>\n",
       "      <td>...</td>\n",
       "      <td>2.550</td>\n",
       "      <td>8.1</td>\n",
       "      <td>86.0</td>\n",
       "      <td>7.918605</td>\n",
       "      <td>7.250177</td>\n",
       "      <td>1.1</td>\n",
       "      <td>4.025</td>\n",
       "      <td>5.35</td>\n",
       "      <td>8.875</td>\n",
       "      <td>40.4</td>\n",
       "    </tr>\n",
       "    <tr>\n",
       "      <th>5.0</th>\n",
       "      <td>78.0</td>\n",
       "      <td>760.025641</td>\n",
       "      <td>429.780553</td>\n",
       "      <td>122.0</td>\n",
       "      <td>515.50</td>\n",
       "      <td>678.5</td>\n",
       "      <td>876.50</td>\n",
       "      <td>2251.0</td>\n",
       "      <td>78.0</td>\n",
       "      <td>21.602564</td>\n",
       "      <td>...</td>\n",
       "      <td>5.925</td>\n",
       "      <td>21.1</td>\n",
       "      <td>78.0</td>\n",
       "      <td>6.353846</td>\n",
       "      <td>6.055173</td>\n",
       "      <td>1.3</td>\n",
       "      <td>3.000</td>\n",
       "      <td>4.40</td>\n",
       "      <td>6.675</td>\n",
       "      <td>31.3</td>\n",
       "    </tr>\n",
       "  </tbody>\n",
       "</table>\n",
       "<p>6 rows × 96 columns</p>\n",
       "</div>"
      ],
      "text/plain": [
       "               size                                                        \\\n",
       "              count        mean         std    min     25%    50%     75%   \n",
       "school_rating                                                               \n",
       "0.0            43.0  501.325581  217.273880   71.0  367.00  426.0  563.00   \n",
       "1.0            40.0  691.250000  476.695395  118.0  409.50  507.5  759.75   \n",
       "2.0            44.0  628.500000  349.591755   53.0  368.25  558.0  752.75   \n",
       "3.0            56.0  762.482143  399.760564  249.0  491.00  652.5  880.50   \n",
       "4.0            86.0  742.732558  403.389242  141.0  452.50  641.5  934.75   \n",
       "5.0            78.0  760.025641  429.780553  122.0  515.50  678.5  876.50   \n",
       "\n",
       "                      reduced_lunch             ... percent_asian        \\\n",
       "                  max         count       mean  ...           75%   max   \n",
       "school_rating                                   ...                       \n",
       "0.0            1002.0          43.0  83.581395  ...         1.900  17.0   \n",
       "1.0            2314.0          40.0  74.950000  ...         2.900  19.5   \n",
       "2.0            1771.0          44.0  64.272727  ...         1.975  11.0   \n",
       "3.0            1983.0          56.0  50.285714  ...         2.625  11.8   \n",
       "4.0            2025.0          86.0  41.000000  ...         2.550   8.1   \n",
       "5.0            2251.0          78.0  21.602564  ...         5.925  21.1   \n",
       "\n",
       "              percent_hispanic                                           \\\n",
       "                         count       mean        std  min    25%    50%   \n",
       "school_rating                                                             \n",
       "0.0                       43.0  17.348837  19.811785  0.7  2.700   7.70   \n",
       "1.0                       40.0  20.655000  15.259481  0.0  9.100  17.90   \n",
       "2.0                       44.0  12.552273   9.995499  0.9  4.625   9.95   \n",
       "3.0                       56.0  10.232143   9.373698  0.0  4.625   9.05   \n",
       "4.0                       86.0   7.918605   7.250177  1.1  4.025   5.35   \n",
       "5.0                       78.0   6.353846   6.055173  1.3  3.000   4.40   \n",
       "\n",
       "                             \n",
       "                  75%   max  \n",
       "school_rating                \n",
       "0.0            21.750  64.8  \n",
       "1.0            30.300  61.2  \n",
       "2.0            18.525  36.0  \n",
       "3.0            12.925  65.2  \n",
       "4.0             8.875  40.4  \n",
       "5.0             6.675  31.3  \n",
       "\n",
       "[6 rows x 96 columns]"
      ]
     },
     "execution_count": 40,
     "metadata": {},
     "output_type": "execute_result"
    }
   ],
   "source": [
    "df_group.head(10)"
   ]
  },
  {
   "cell_type": "markdown",
   "id": "fd2b7d6a",
   "metadata": {},
   "source": [
    "#### Phase 3 – Correlation analysis"
   ]
  },
  {
   "cell_type": "code",
   "execution_count": 41,
   "id": "595ad6e3",
   "metadata": {},
   "outputs": [
    {
     "data": {
      "text/plain": [
       "array([[ 1.        , -0.81575674],\n",
       "       [-0.81575674,  1.        ]])"
      ]
     },
     "execution_count": 41,
     "metadata": {},
     "output_type": "execute_result"
    }
   ],
   "source": [
    "np.corrcoef(red_lunch,df['school_rating'])"
   ]
  },
  {
   "cell_type": "code",
   "execution_count": 42,
   "id": "753ab172",
   "metadata": {},
   "outputs": [
    {
     "data": {
      "text/html": [
       "<div>\n",
       "<style scoped>\n",
       "    .dataframe tbody tr th:only-of-type {\n",
       "        vertical-align: middle;\n",
       "    }\n",
       "\n",
       "    .dataframe tbody tr th {\n",
       "        vertical-align: top;\n",
       "    }\n",
       "\n",
       "    .dataframe thead th {\n",
       "        text-align: right;\n",
       "    }\n",
       "</style>\n",
       "<table border=\"1\" class=\"dataframe\">\n",
       "  <thead>\n",
       "    <tr style=\"text-align: right;\">\n",
       "      <th></th>\n",
       "      <th>school_rating</th>\n",
       "      <th>size</th>\n",
       "      <th>reduced_lunch</th>\n",
       "      <th>state_percentile_16</th>\n",
       "      <th>state_percentile_15</th>\n",
       "      <th>stu_teach_ratio</th>\n",
       "      <th>avg_score_15</th>\n",
       "      <th>avg_score_16</th>\n",
       "      <th>full_time_teachers</th>\n",
       "      <th>percent_black</th>\n",
       "      <th>percent_white</th>\n",
       "      <th>percent_asian</th>\n",
       "      <th>percent_hispanic</th>\n",
       "    </tr>\n",
       "  </thead>\n",
       "  <tbody>\n",
       "    <tr>\n",
       "      <th>school_rating</th>\n",
       "      <td>1.000000</td>\n",
       "      <td>0.181428</td>\n",
       "      <td>-0.815757</td>\n",
       "      <td>0.985545</td>\n",
       "      <td>0.937817</td>\n",
       "      <td>0.203459</td>\n",
       "      <td>0.941336</td>\n",
       "      <td>0.982390</td>\n",
       "      <td>0.122910</td>\n",
       "      <td>-0.593869</td>\n",
       "      <td>0.639014</td>\n",
       "      <td>0.161469</td>\n",
       "      <td>-0.376288</td>\n",
       "    </tr>\n",
       "    <tr>\n",
       "      <th>size</th>\n",
       "      <td>0.181428</td>\n",
       "      <td>1.000000</td>\n",
       "      <td>-0.277807</td>\n",
       "      <td>0.171060</td>\n",
       "      <td>0.162887</td>\n",
       "      <td>0.143173</td>\n",
       "      <td>0.161788</td>\n",
       "      <td>0.143289</td>\n",
       "      <td>0.966880</td>\n",
       "      <td>-0.148405</td>\n",
       "      <td>0.102904</td>\n",
       "      <td>0.193491</td>\n",
       "      <td>-0.017660</td>\n",
       "    </tr>\n",
       "    <tr>\n",
       "      <th>reduced_lunch</th>\n",
       "      <td>-0.815757</td>\n",
       "      <td>-0.277807</td>\n",
       "      <td>1.000000</td>\n",
       "      <td>-0.815720</td>\n",
       "      <td>-0.825085</td>\n",
       "      <td>-0.197428</td>\n",
       "      <td>-0.839536</td>\n",
       "      <td>-0.816479</td>\n",
       "      <td>-0.214848</td>\n",
       "      <td>0.562921</td>\n",
       "      <td>-0.668327</td>\n",
       "      <td>-0.226385</td>\n",
       "      <td>0.490446</td>\n",
       "    </tr>\n",
       "    <tr>\n",
       "      <th>state_percentile_16</th>\n",
       "      <td>0.985545</td>\n",
       "      <td>0.171060</td>\n",
       "      <td>-0.815720</td>\n",
       "      <td>1.000000</td>\n",
       "      <td>0.949694</td>\n",
       "      <td>0.186893</td>\n",
       "      <td>0.949197</td>\n",
       "      <td>0.994085</td>\n",
       "      <td>0.117061</td>\n",
       "      <td>-0.573810</td>\n",
       "      <td>0.625374</td>\n",
       "      <td>0.151021</td>\n",
       "      <td>-0.383017</td>\n",
       "    </tr>\n",
       "    <tr>\n",
       "      <th>state_percentile_15</th>\n",
       "      <td>0.937817</td>\n",
       "      <td>0.162887</td>\n",
       "      <td>-0.825085</td>\n",
       "      <td>0.949694</td>\n",
       "      <td>1.000000</td>\n",
       "      <td>0.141066</td>\n",
       "      <td>0.991847</td>\n",
       "      <td>0.946101</td>\n",
       "      <td>0.109569</td>\n",
       "      <td>-0.564929</td>\n",
       "      <td>0.612183</td>\n",
       "      <td>0.181822</td>\n",
       "      <td>-0.371708</td>\n",
       "    </tr>\n",
       "    <tr>\n",
       "      <th>stu_teach_ratio</th>\n",
       "      <td>0.203459</td>\n",
       "      <td>0.143173</td>\n",
       "      <td>-0.197428</td>\n",
       "      <td>0.186893</td>\n",
       "      <td>0.141066</td>\n",
       "      <td>1.000000</td>\n",
       "      <td>0.147963</td>\n",
       "      <td>0.175880</td>\n",
       "      <td>0.019594</td>\n",
       "      <td>-0.122307</td>\n",
       "      <td>0.134595</td>\n",
       "      <td>0.089211</td>\n",
       "      <td>-0.089307</td>\n",
       "    </tr>\n",
       "    <tr>\n",
       "      <th>avg_score_15</th>\n",
       "      <td>0.941336</td>\n",
       "      <td>0.161788</td>\n",
       "      <td>-0.839536</td>\n",
       "      <td>0.949197</td>\n",
       "      <td>0.991847</td>\n",
       "      <td>0.147963</td>\n",
       "      <td>1.000000</td>\n",
       "      <td>0.953714</td>\n",
       "      <td>0.105186</td>\n",
       "      <td>-0.595062</td>\n",
       "      <td>0.637500</td>\n",
       "      <td>0.192656</td>\n",
       "      <td>-0.374300</td>\n",
       "    </tr>\n",
       "    <tr>\n",
       "      <th>avg_score_16</th>\n",
       "      <td>0.982390</td>\n",
       "      <td>0.143289</td>\n",
       "      <td>-0.816479</td>\n",
       "      <td>0.994085</td>\n",
       "      <td>0.946101</td>\n",
       "      <td>0.175880</td>\n",
       "      <td>0.953714</td>\n",
       "      <td>1.000000</td>\n",
       "      <td>0.089338</td>\n",
       "      <td>-0.592876</td>\n",
       "      <td>0.635201</td>\n",
       "      <td>0.172739</td>\n",
       "      <td>-0.373618</td>\n",
       "    </tr>\n",
       "    <tr>\n",
       "      <th>full_time_teachers</th>\n",
       "      <td>0.122910</td>\n",
       "      <td>0.966880</td>\n",
       "      <td>-0.214848</td>\n",
       "      <td>0.117061</td>\n",
       "      <td>0.109569</td>\n",
       "      <td>0.019594</td>\n",
       "      <td>0.105186</td>\n",
       "      <td>0.089338</td>\n",
       "      <td>1.000000</td>\n",
       "      <td>-0.113515</td>\n",
       "      <td>0.055672</td>\n",
       "      <td>0.146726</td>\n",
       "      <td>0.026130</td>\n",
       "    </tr>\n",
       "    <tr>\n",
       "      <th>percent_black</th>\n",
       "      <td>-0.593869</td>\n",
       "      <td>-0.148405</td>\n",
       "      <td>0.562921</td>\n",
       "      <td>-0.573810</td>\n",
       "      <td>-0.564929</td>\n",
       "      <td>-0.122307</td>\n",
       "      <td>-0.595062</td>\n",
       "      <td>-0.592876</td>\n",
       "      <td>-0.113515</td>\n",
       "      <td>1.000000</td>\n",
       "      <td>-0.874202</td>\n",
       "      <td>-0.112274</td>\n",
       "      <td>0.086627</td>\n",
       "    </tr>\n",
       "    <tr>\n",
       "      <th>percent_white</th>\n",
       "      <td>0.639014</td>\n",
       "      <td>0.102904</td>\n",
       "      <td>-0.668327</td>\n",
       "      <td>0.625374</td>\n",
       "      <td>0.612183</td>\n",
       "      <td>0.134595</td>\n",
       "      <td>0.637500</td>\n",
       "      <td>0.635201</td>\n",
       "      <td>0.055672</td>\n",
       "      <td>-0.874202</td>\n",
       "      <td>1.000000</td>\n",
       "      <td>-0.092287</td>\n",
       "      <td>-0.537571</td>\n",
       "    </tr>\n",
       "    <tr>\n",
       "      <th>percent_asian</th>\n",
       "      <td>0.161469</td>\n",
       "      <td>0.193491</td>\n",
       "      <td>-0.226385</td>\n",
       "      <td>0.151021</td>\n",
       "      <td>0.181822</td>\n",
       "      <td>0.089211</td>\n",
       "      <td>0.192656</td>\n",
       "      <td>0.172739</td>\n",
       "      <td>0.146726</td>\n",
       "      <td>-0.112274</td>\n",
       "      <td>-0.092287</td>\n",
       "      <td>1.000000</td>\n",
       "      <td>0.187277</td>\n",
       "    </tr>\n",
       "    <tr>\n",
       "      <th>percent_hispanic</th>\n",
       "      <td>-0.376288</td>\n",
       "      <td>-0.017660</td>\n",
       "      <td>0.490446</td>\n",
       "      <td>-0.383017</td>\n",
       "      <td>-0.371708</td>\n",
       "      <td>-0.089307</td>\n",
       "      <td>-0.374300</td>\n",
       "      <td>-0.373618</td>\n",
       "      <td>0.026130</td>\n",
       "      <td>0.086627</td>\n",
       "      <td>-0.537571</td>\n",
       "      <td>0.187277</td>\n",
       "      <td>1.000000</td>\n",
       "    </tr>\n",
       "  </tbody>\n",
       "</table>\n",
       "</div>"
      ],
      "text/plain": [
       "                     school_rating      size  reduced_lunch  \\\n",
       "school_rating             1.000000  0.181428      -0.815757   \n",
       "size                      0.181428  1.000000      -0.277807   \n",
       "reduced_lunch            -0.815757 -0.277807       1.000000   \n",
       "state_percentile_16       0.985545  0.171060      -0.815720   \n",
       "state_percentile_15       0.937817  0.162887      -0.825085   \n",
       "stu_teach_ratio           0.203459  0.143173      -0.197428   \n",
       "avg_score_15              0.941336  0.161788      -0.839536   \n",
       "avg_score_16              0.982390  0.143289      -0.816479   \n",
       "full_time_teachers        0.122910  0.966880      -0.214848   \n",
       "percent_black            -0.593869 -0.148405       0.562921   \n",
       "percent_white             0.639014  0.102904      -0.668327   \n",
       "percent_asian             0.161469  0.193491      -0.226385   \n",
       "percent_hispanic         -0.376288 -0.017660       0.490446   \n",
       "\n",
       "                     state_percentile_16  state_percentile_15  \\\n",
       "school_rating                   0.985545             0.937817   \n",
       "size                            0.171060             0.162887   \n",
       "reduced_lunch                  -0.815720            -0.825085   \n",
       "state_percentile_16             1.000000             0.949694   \n",
       "state_percentile_15             0.949694             1.000000   \n",
       "stu_teach_ratio                 0.186893             0.141066   \n",
       "avg_score_15                    0.949197             0.991847   \n",
       "avg_score_16                    0.994085             0.946101   \n",
       "full_time_teachers              0.117061             0.109569   \n",
       "percent_black                  -0.573810            -0.564929   \n",
       "percent_white                   0.625374             0.612183   \n",
       "percent_asian                   0.151021             0.181822   \n",
       "percent_hispanic               -0.383017            -0.371708   \n",
       "\n",
       "                     stu_teach_ratio  avg_score_15  avg_score_16  \\\n",
       "school_rating               0.203459      0.941336      0.982390   \n",
       "size                        0.143173      0.161788      0.143289   \n",
       "reduced_lunch              -0.197428     -0.839536     -0.816479   \n",
       "state_percentile_16         0.186893      0.949197      0.994085   \n",
       "state_percentile_15         0.141066      0.991847      0.946101   \n",
       "stu_teach_ratio             1.000000      0.147963      0.175880   \n",
       "avg_score_15                0.147963      1.000000      0.953714   \n",
       "avg_score_16                0.175880      0.953714      1.000000   \n",
       "full_time_teachers          0.019594      0.105186      0.089338   \n",
       "percent_black              -0.122307     -0.595062     -0.592876   \n",
       "percent_white               0.134595      0.637500      0.635201   \n",
       "percent_asian               0.089211      0.192656      0.172739   \n",
       "percent_hispanic           -0.089307     -0.374300     -0.373618   \n",
       "\n",
       "                     full_time_teachers  percent_black  percent_white  \\\n",
       "school_rating                  0.122910      -0.593869       0.639014   \n",
       "size                           0.966880      -0.148405       0.102904   \n",
       "reduced_lunch                 -0.214848       0.562921      -0.668327   \n",
       "state_percentile_16            0.117061      -0.573810       0.625374   \n",
       "state_percentile_15            0.109569      -0.564929       0.612183   \n",
       "stu_teach_ratio                0.019594      -0.122307       0.134595   \n",
       "avg_score_15                   0.105186      -0.595062       0.637500   \n",
       "avg_score_16                   0.089338      -0.592876       0.635201   \n",
       "full_time_teachers             1.000000      -0.113515       0.055672   \n",
       "percent_black                 -0.113515       1.000000      -0.874202   \n",
       "percent_white                  0.055672      -0.874202       1.000000   \n",
       "percent_asian                  0.146726      -0.112274      -0.092287   \n",
       "percent_hispanic               0.026130       0.086627      -0.537571   \n",
       "\n",
       "                     percent_asian  percent_hispanic  \n",
       "school_rating             0.161469         -0.376288  \n",
       "size                      0.193491         -0.017660  \n",
       "reduced_lunch            -0.226385          0.490446  \n",
       "state_percentile_16       0.151021         -0.383017  \n",
       "state_percentile_15       0.181822         -0.371708  \n",
       "stu_teach_ratio           0.089211         -0.089307  \n",
       "avg_score_15              0.192656         -0.374300  \n",
       "avg_score_16              0.172739         -0.373618  \n",
       "full_time_teachers        0.146726          0.026130  \n",
       "percent_black            -0.112274          0.086627  \n",
       "percent_white            -0.092287         -0.537571  \n",
       "percent_asian             1.000000          0.187277  \n",
       "percent_hispanic          0.187277          1.000000  "
      ]
     },
     "execution_count": 42,
     "metadata": {},
     "output_type": "execute_result"
    }
   ],
   "source": [
    "cor = df.corr()\n",
    "cor"
   ]
  },
  {
   "cell_type": "markdown",
   "id": "3b35a9df",
   "metadata": {},
   "source": [
    "There is negative correlation between reduced_lunch and school_rating."
   ]
  },
  {
   "cell_type": "markdown",
   "id": "1cfca04b",
   "metadata": {},
   "source": [
    "#### Phase 4 – Scatter Plot"
   ]
  },
  {
   "cell_type": "code",
   "execution_count": 43,
   "id": "674037b0",
   "metadata": {},
   "outputs": [
    {
     "data": {
      "image/png": "[encoded data removed]",
      "text/plain": [
       "<Figure size 720x432 with 1 Axes>"
      ]
     },
     "metadata": {
      "needs_background": "light"
     },
     "output_type": "display_data"
    }
   ],
   "source": [
    "plt.figure(figsize=(10,6))\n",
    "plt.scatter(df[\"reduced_lunch\"], df[\"school_rating\"])\n",
    "plt.grid();\n",
    "plt.title('Scatter plot of reduced_lunch vs school_rating')\n",
    "plt.xlabel('reduce_lunch')\n",
    "plt.ylabel('school_rating')\n",
    "plt.show();"
   ]
  },
  {
   "cell_type": "markdown",
   "id": "05bd6364",
   "metadata": {},
   "source": [
    "#### Phase 5 – Correlation Matrix"
   ]
  },
  {
   "cell_type": "code",
   "execution_count": 44,
   "id": "c4b18654",
   "metadata": {},
   "outputs": [
    {
     "data": {
      "image/png": "[encoded data removed]",
      "text/plain": [
       "<Figure size 1080x720 with 2 Axes>"
      ]
     },
     "metadata": {
      "needs_background": "light"
     },
     "output_type": "display_data"
    }
   ],
   "source": [
    "plt.figure(figsize=(15, 10))\n",
    "sns.heatmap(cor, annot=True)\n",
    "plt.show()"
   ]
  },
  {
   "cell_type": "code",
   "execution_count": null,
   "id": "ff43b451",
   "metadata": {},
   "outputs": [],
   "source": []
  }
 ],
 "metadata": {
  "kernelspec": {
   "display_name": "Python 3",
   "language": "python",
   "name": "python3"
  },
  "language_info": {
   "codemirror_mode": {
    "name": "ipython",
    "version": 3
   },
   "file_extension": ".py",
   "mimetype": "text/x-python",
   "name": "python",
   "nbconvert_exporter": "python",
   "pygments_lexer": "ipython3",
   "version": "3.8.8"
  }
 },
 "nbformat": 4,
 "nbformat_minor": 5
}
