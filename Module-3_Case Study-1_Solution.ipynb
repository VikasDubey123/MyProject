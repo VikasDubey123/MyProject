{
 "cells": [
  {
   "cell_type": "markdown",
   "id": "54876503",
   "metadata": {},
   "source": [
    "## Question-1\n",
    "A Robot moves in a Plane starting from the origin point (0,0). The robot can move toward UP, DOWN, LEFT, RIGHT. The trace of Robot movement is as given following:\n",
    "\n",
    "UP 5\n",
    "\n",
    "DOWN 3\n",
    "\n",
    "LEFT 3\n",
    "\n",
    "RIGHT 2\n",
    "\n",
    "The numbers after directions are steps. Write a program to compute the distance current position after sequence of movements."
   ]
  },
  {
   "cell_type": "code",
   "execution_count": 4,
   "id": "5abfaa49",
   "metadata": {},
   "outputs": [
    {
     "name": "stdout",
     "output_type": "stream",
     "text": [
      "Type the direction UP/DOWN/LEFT/RIGHT with # of steps: UP 5\n",
      "Type the direction UP/DOWN/LEFT/RIGHT with # of steps: DOWN 3\n",
      "Type the direction UP/DOWN/LEFT/RIGHT with # of steps: LEFT 3\n",
      "Type the direction UP/DOWN/LEFT/RIGHT with # of steps: RIGHT 2\n",
      "Type the direction UP/DOWN/LEFT/RIGHT with # of steps: \n",
      "Total Distance covered:  2.23606797749979\n"
     ]
    }
   ],
   "source": [
    "import math\n",
    "\n",
    "x, y = 0, 0\n",
    "\n",
    "while True:\n",
    "    steps = input(\"Type the direction UP/DOWN/LEFT/RIGHT with # of steps: \")\n",
    "    if steps == \"\":\n",
    "        break\n",
    "    else:\n",
    "        steps = steps.split(\" \")\n",
    "        if steps[0] == \"UP\":\n",
    "            y = y + int(steps[1])\n",
    "        elif steps[0] == \"DOWN\":\n",
    "            y = y - int(steps[1])\n",
    "        elif steps[0] == \"RIGHT\":\n",
    "            x = x + int(steps[1])\n",
    "        elif steps[0] == \"LEFT\":\n",
    "            x = x - int(steps[1])\n",
    "            \n",
    "Dist = math.sqrt(x**2 + y**2)\n",
    "print(\"Total Distance covered: \",Dist)"
   ]
  },
  {
   "cell_type": "markdown",
   "id": "77f2b937",
   "metadata": {},
   "source": [
    "## Question-2\n",
    "Data of XYZ company is stored in sorted list. Write a program for searching specific data from that list."
   ]
  },
  {
   "cell_type": "code",
   "execution_count": 17,
   "id": "e405ca09",
   "metadata": {},
   "outputs": [
    {
     "name": "stdout",
     "output_type": "stream",
     "text": [
      "Enter the data which you want to find: Mumbai\n",
      "The entered data is present in company data\n"
     ]
    }
   ],
   "source": [
    "data = ['Vikas', 'Mumbai', 'Maharashtra']\n",
    "data.sort()\n",
    "a = input(\"Enter the data which you want to find: \")\n",
    "if a in data:\n",
    "    print(\"The entered data is present in company data\")\n",
    "else:\n",
    "    print(\"The entered data is absent in company data\")"
   ]
  },
  {
   "cell_type": "markdown",
   "id": "b96547e0",
   "metadata": {},
   "source": [
    "## Question-3\n",
    "Weather forecasting organization wants to show is it day or night. So, write a program for such organization to find whether is it dark outside or not."
   ]
  },
  {
   "cell_type": "code",
   "execution_count": 19,
   "id": "0662d1a6",
   "metadata": {},
   "outputs": [
    {
     "name": "stdout",
     "output_type": "stream",
     "text": [
      "Its Light Outside\n"
     ]
    }
   ],
   "source": [
    "from datetime import datetime\n",
    "Cur_hour = datetime.now().hour    # Takes current time hour from system\n",
    "if 6 <= Cur_hour <= 18:\n",
    "    print(\"Its Light Outside\")\n",
    "else:\n",
    "    print(\"Its Dark Outside\")"
   ]
  },
  {
   "cell_type": "markdown",
   "id": "b19683c5",
   "metadata": {},
   "source": [
    "## Question-4\n",
    "Write a program to find distance between two locations when their latitude and longitudes are given."
   ]
  },
  {
   "cell_type": "code",
   "execution_count": 23,
   "id": "8ee6a314",
   "metadata": {},
   "outputs": [
    {
     "name": "stdout",
     "output_type": "stream",
     "text": [
      "Enter latitude of 1st position: 53.5\n",
      "Enter latitude of 2nd position: 80.6666\n",
      "Enter longitude of 1st position: 2.9845\n",
      "Enter longitude of 2st position: 5.4321\n",
      "The distance between two points is 3022.0159058950226 K.M\n"
     ]
    }
   ],
   "source": [
    "from math import radians, sin, cos, asin, sqrt\n",
    "# Radius of earth in kilometers\n",
    "r = 6371\n",
    "# Function to calculate distance provided latitude and longitudes\n",
    "def distance(lat1, lat2, lon1, lon2):\n",
    "    lat1 = radians(lat1)\n",
    "    lat2 = radians(lat2)\n",
    "    lon1 = radians(lon1)\n",
    "    lon2 = radians(lon2)\n",
    "    \n",
    "    dlat = lat2 - lat1\n",
    "    dlon = lon1 - lon2\n",
    "    a = sin(dlat/2)**2 + cos(lat1)*cos(lat2)*sin(dlon/2)**2\n",
    "    c = 2*asin(sqrt(a))\n",
    "    \n",
    "    return(c*r)\n",
    "\n",
    "# Calling the function\n",
    "lat1 = float(input(\"Enter latitude of 1st position: \"))\n",
    "lat2 = float(input(\"Enter latitude of 2nd position: \"))\n",
    "lon1 = float(input(\"Enter longitude of 1st position: \"))\n",
    "lon2 = float(input(\"Enter longitude of 2st position: \"))\n",
    "print(\"The distance between two points is\",distance(lat1,lat2,lon1,lon2),\"K.M\")"
   ]
  },
  {
   "cell_type": "markdown",
   "id": "88c29d6e",
   "metadata": {},
   "source": [
    "## Question-5\n",
    "Design a software for bank system. There should be options like cash withdraw, cash credit and change password. According to user input, the software should provide required output."
   ]
  },
  {
   "cell_type": "code",
   "execution_count": 25,
   "id": "78fb24db",
   "metadata": {},
   "outputs": [
    {
     "name": "stdout",
     "output_type": "stream",
     "text": [
      "Welcome to XYZ bank \n",
      "Choose from below option:\n",
      "1. Cash Withdrawal \n",
      "2. Cash Credit \n",
      "3. Change Password\n",
      "Enter Your Option: 2\n",
      "Enter your ATM pin: 1234\n",
      "Enter the amount you want to deposit: 3000\n",
      "****** Thank You for Banking with Us *******\n"
     ]
    }
   ],
   "source": [
    "def CashWidrawal():\n",
    "    PIN = input(\"Enter your ATM pin: \")\n",
    "    if PIN == '1234':\n",
    "        AMT = int(input(\"Enter the amount (in denomination of 500 rs): \"))\n",
    "        print(\"****** Thank You for Banking with Us *******\")\n",
    "    else:\n",
    "        print(\"You have entered Invalid Pin. Try Again\")\n",
    "\n",
    "def CashCredit():\n",
    "    PIN = input(\"Enter your ATM pin: \")\n",
    "    if PIN == '1234':\n",
    "        AMT = int(input(\"Enter the amount you want to deposit: \"))\n",
    "        print(\"****** Thank You for Banking with Us *******\")\n",
    "    else:\n",
    "        print(\"You have entered Invalid Pin. Try Again\")\n",
    "        \n",
    "def ChangePassword():\n",
    "    PIN = input(\"Enter your ATM pin: \")\n",
    "    if PIN == '1234':\n",
    "        Old_pass = input(\"Enter your ATM pin: \")\n",
    "        New_pass = input(\"Enter your New ATM pin: \")\n",
    "        print(\"****** Thank You for Banking with Us *******\")\n",
    "    else:\n",
    "        print(\"You have entered Invalid Pin. Try Again\")\n",
    "        \n",
    "# Calling Functions\n",
    "print(\"Welcome to XYZ bank \\nChoose from below option:\")\n",
    "print(\"1. Cash Withdrawal \\n2. Cash Credit \\n3. Change Password\")\n",
    "opt = input(\"Enter Your Option: \")\n",
    "if opt == '1':\n",
    "    CashWidrawal()\n",
    "elif opt == '2':\n",
    "    CashCredit()\n",
    "elif opt == '3':\n",
    "    ChangePassword()"
   ]
  },
  {
   "cell_type": "markdown",
   "id": "89bf691f",
   "metadata": {},
   "source": [
    "## Question-6\n",
    "Write a program which will find all such numbers which are divisible by 7 but are not a multiple of 5, between 2000 and 3200 (both included). The numbers obtained should be printed in a comma-separated sequence on a single line."
   ]
  },
  {
   "cell_type": "code",
   "execution_count": 26,
   "id": "8954ab41",
   "metadata": {},
   "outputs": [
    {
     "name": "stdout",
     "output_type": "stream",
     "text": [
      "2002,2009,2016,2023,2037,2044,2051,2058,2072,2079,2086,2093,2107,2114,2121,2128,2142,2149,2156,2163,2177,2184,2191,2198,2212,2219,2226,2233,2247,2254,2261,2268,2282,2289,2296,2303,2317,2324,2331,2338,2352,2359,2366,2373,2387,2394,2401,2408,2422,2429,2436,2443,2457,2464,2471,2478,2492,2499,2506,2513,2527,2534,2541,2548,2562,2569,2576,2583,2597,2604,2611,2618,2632,2639,2646,2653,2667,2674,2681,2688,2702,2709,2716,2723,2737,2744,2751,2758,2772,2779,2786,2793,2807,2814,2821,2828,2842,2849,2856,2863,2877,2884,2891,2898,2912,2919,2926,2933,2947,2954,2961,2968,2982,2989,2996,3003,3017,3024,3031,3038,3052,3059,3066,3073,3087,3094,3101,3108,3122,3129,3136,3143,3157,3164,3171,3178,3192,3199,"
     ]
    }
   ],
   "source": [
    "for i in range(2000,3201):\n",
    "    if i%7 == 0 and i%5 != 0:\n",
    "        print(i, end=\",\")"
   ]
  },
  {
   "cell_type": "markdown",
   "id": "3f73a6ce",
   "metadata": {},
   "source": [
    "## Question-7\n",
    "Write a program which can compute the factorial of a given numbers. Use recursion to find it.\n",
    "\n",
    "Hint: Suppose the following input is supplied to the program:\n",
    "\n",
    "8\n",
    "\n",
    "Then, the output should be:\n",
    "40320"
   ]
  },
  {
   "cell_type": "code",
   "execution_count": 30,
   "id": "42b0c7fc",
   "metadata": {},
   "outputs": [
    {
     "name": "stdout",
     "output_type": "stream",
     "text": [
      "Enter the number: 8\n",
      "The factorial of  8  is 40320\n"
     ]
    }
   ],
   "source": [
    "def factorial(n):\n",
    "    if n < 0:\n",
    "        return print(\"Please Enter positive number\")\n",
    "    elif (n == 0 or n == 1):\n",
    "        return 1\n",
    "    else:\n",
    "        return (n*factorial(n-1))\n",
    "\n",
    "num = int(input(\"Enter the number: \"))\n",
    "print(\"The factorial of \",num,\" is\",factorial(num))"
   ]
  },
  {
   "cell_type": "markdown",
   "id": "c2cf3e45",
   "metadata": {},
   "source": [
    "## Question-8\n",
    "Write a program that calculates and prints the value according to the given formula:\n",
    "\n",
    "Q = Square root of [(2 * C * D)/H]\n",
    "\n",
    "Following are the fixed values of C and H: C is 50. H is 30.\n",
    "D is the variable whose values should be input to your program in a comma- separated sequence."
   ]
  },
  {
   "cell_type": "code",
   "execution_count": 62,
   "id": "1d10e63c",
   "metadata": {},
   "outputs": [
    {
     "name": "stdout",
     "output_type": "stream",
     "text": [
      "Enter number100,150,180\n",
      "18,22,24,"
     ]
    }
   ],
   "source": [
    "from math import sqrt\n",
    "D = input(\"Enter number\")\n",
    "D = D.split(',')\n",
    "C = 50\n",
    "H = 30\n",
    "for i in range(0,len(D)):\n",
    "    Q = sqrt((2*C*int(D[i]))/H)\n",
    "    print(int(Q), end=\",\")"
   ]
  },
  {
   "cell_type": "markdown",
   "id": "8624bebd",
   "metadata": {},
   "source": [
    "## Question-9\n",
    "Write a program which takes 2 digits, X,Y as input and generates a 2-dimensional array. The element value in the i-th row and j-th column of the array should be i*j.\n",
    "Note: i=0,1.., X-1; j=0,1,¡Y-1."
   ]
  },
  {
   "cell_type": "code",
   "execution_count": 72,
   "id": "abe7bd1f",
   "metadata": {},
   "outputs": [
    {
     "name": "stdout",
     "output_type": "stream",
     "text": [
      "Enter values for row and column numbers: 3,5\n",
      "The 2-D array is:  [[0, 0, 0, 0, 0], [0, 1, 2, 3, 4], [0, 2, 4, 6, 8]]\n"
     ]
    }
   ],
   "source": [
    "a = input(\"Enter values for row and column numbers: \")\n",
    "row, col = a.split(',')\n",
    "grid = []\n",
    "for x in range(int(row)):\n",
    "    row = []\n",
    "    for y in range(int(col)):\n",
    "        row.append(x*y)\n",
    "    grid.append(row)\n",
    "    \n",
    "print(\"The 2-D array is: \",grid)"
   ]
  },
  {
   "cell_type": "markdown",
   "id": "d474f96f",
   "metadata": {},
   "source": [
    "## Question-10\n",
    "Write a program that accepts a comma separated sequence of words as input and prints the words in a comma-separated sequence after sorting them alphabetically."
   ]
  },
  {
   "cell_type": "code",
   "execution_count": 82,
   "id": "b9b95e38",
   "metadata": {},
   "outputs": [
    {
     "name": "stdout",
     "output_type": "stream",
     "text": [
      "Enter words separated by comma: without,hello,bag,world\n",
      "bag,hello,without,world\n"
     ]
    }
   ],
   "source": [
    "a = input(\"Enter words separated by comma: \")\n",
    "a = a.split(',')\n",
    "a.sort()\n",
    "print((','.join(a)))"
   ]
  },
  {
   "cell_type": "markdown",
   "id": "15b4efa6",
   "metadata": {},
   "source": [
    "## Question-11\n",
    "Write a program that accepts sequence of lines as input and prints the lines after making all characters in the sentence capitalized."
   ]
  },
  {
   "cell_type": "code",
   "execution_count": 84,
   "id": "147e9275",
   "metadata": {},
   "outputs": [
    {
     "name": "stdout",
     "output_type": "stream",
     "text": [
      "Hello world\n",
      "Practice makes perfect\n",
      "\n",
      "HELLO WORLD\n",
      "PRACTICE MAKES PERFECT\n"
     ]
    }
   ],
   "source": [
    "line = []\n",
    "while True:\n",
    "    l = input()\n",
    "    if l:\n",
    "        line.append(l.upper())\n",
    "    else:\n",
    "        break\n",
    "        \n",
    "for l in line:\n",
    "    print(l)"
   ]
  },
  {
   "cell_type": "markdown",
   "id": "54513014",
   "metadata": {},
   "source": [
    "## Question-12\n",
    "Write a program that accepts a sequence of whitespace separated words as input and prints the words after removing all duplicate words and sorting them alphanumerically."
   ]
  },
  {
   "cell_type": "code",
   "execution_count": 99,
   "id": "605ee633",
   "metadata": {},
   "outputs": [
    {
     "name": "stdout",
     "output_type": "stream",
     "text": [
      "Enter words separated by whitespace: hello world and practice makes perfect and hello world again\n",
      "---------------***----------\n",
      "again and hello makes perfect practice world\n"
     ]
    }
   ],
   "source": [
    "a = input(\"Enter words separated by whitespace: \")\n",
    "a = a.split()\n",
    "a.sort()\n",
    "ulist = []\n",
    "for i in a:\n",
    "    if i not in ulist:\n",
    "        ulist.append(i)\n",
    "b = ' '.join(ulist)\n",
    "print(\"---------------***----------\")\n",
    "print(b)"
   ]
  },
  {
   "cell_type": "markdown",
   "id": "6b0a336c",
   "metadata": {},
   "source": [
    "## Question-13\n",
    "Write a program which accepts a sequence of comma separated 4 digit binary numbers as its input and then check whether they are divisible by 5 or not. The numbers that are divisible by 5 are to be printed in a comma separated sequence."
   ]
  },
  {
   "cell_type": "code",
   "execution_count": 106,
   "id": "340d0acc",
   "metadata": {},
   "outputs": [
    {
     "name": "stdout",
     "output_type": "stream",
     "text": [
      "Enter words separated by comma: 0100,0011,1010,1001\n",
      "0100,1010,"
     ]
    }
   ],
   "source": [
    "a = input(\"Enter words separated by comma: \")\n",
    "a = a.split(',')\n",
    "for i in range(len(a)):\n",
    "    if int(a[i])%5 == 0:\n",
    "        print(a[i], end=',')"
   ]
  },
  {
   "cell_type": "markdown",
   "id": "ad007bed",
   "metadata": {},
   "source": [
    "## Question-14\n",
    "Write a program that accepts a sentence and calculate the number of upper case letters and lower case letters."
   ]
  },
  {
   "cell_type": "code",
   "execution_count": 107,
   "id": "ebd36104",
   "metadata": {},
   "outputs": [
    {
     "name": "stdout",
     "output_type": "stream",
     "text": [
      "Enter the sentence = Hello world!\n",
      "UPPER CASE =  1\n",
      "LOWER CASE =  9\n"
     ]
    }
   ],
   "source": [
    "a = input(\"Enter the sentence = \")\n",
    "Upper = Lower = 0\n",
    "for i in a:\n",
    "  if i.islower():\n",
    "    Lower +=1\n",
    "  elif i.isupper():\n",
    "    Upper +=1\n",
    "\n",
    "print(\"UPPER CASE = \",Upper)\n",
    "print(\"LOWER CASE = \",Lower)"
   ]
  },
  {
   "cell_type": "markdown",
   "id": "df0813f7",
   "metadata": {},
   "source": [
    "## Question-15\n",
    "Give example of fsum and sum function of math library."
   ]
  },
  {
   "cell_type": "code",
   "execution_count": 117,
   "id": "fcaf4267",
   "metadata": {},
   "outputs": [
    {
     "name": "stdout",
     "output_type": "stream",
     "text": [
      "45.0\n",
      "45\n",
      "6.699999999999999\n",
      "6.7\n"
     ]
    }
   ],
   "source": [
    "from math import fsum\n",
    "# With Range\n",
    "print(fsum(range(10)))\n",
    "print(sum(range(10)))\n",
    "\n",
    "# With Arrays\n",
    "arr = [1.3, 2, 3.4]\n",
    "print(sum(arr))\n",
    "print(fsum(arr))"
   ]
  },
  {
   "cell_type": "code",
   "execution_count": null,
   "id": "f8e08612",
   "metadata": {},
   "outputs": [],
   "source": []
  }
 ],
 "metadata": {
  "kernelspec": {
   "display_name": "Python 3",
   "language": "python",
   "name": "python3"
  },
  "language_info": {
   "codemirror_mode": {
    "name": "ipython",
    "version": 3
   },
   "file_extension": ".py",
   "mimetype": "text/x-python",
   "name": "python",
   "nbconvert_exporter": "python",
   "pygments_lexer": "ipython3",
   "version": "3.8.8"
  }
 },
 "nbformat": 4,
 "nbformat_minor": 5
}
